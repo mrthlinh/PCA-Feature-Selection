{
 "cells": [
  {
   "cell_type": "code",
   "execution_count": 131,
   "metadata": {
    "collapsed": false
   },
   "outputs": [],
   "source": [
    "from cvxopt import matrix\n",
    "from cvxopt import solvers\n",
    "def SVM_primal(input,c):\n",
    "    # Load input\n",
    "    row_length,col_length = input.shape\n",
    "    row_training  = row_length\n",
    "\n",
    "    # Initialize training\n",
    "    train_x = input[:,0:col_length-1]\n",
    "    train_x = np.concatenate((train_x,np.ones((row_training,1))),axis = 1)#Add ones column as bias\n",
    "    train_y = input[:,col_length-1:col_length]\n",
    "    feature_num = train_x.shape[1] #11\n",
    "\n",
    "    P = np.eye(feature_num-1)\n",
    "    P = np.concatenate((P,np.zeros((feature_num-1,row_training+1))),axis = 1)\n",
    "    P = np.concatenate((P,np.zeros((row_training+1,row_training+feature_num))),axis = 0) #347 x 347\n",
    "\n",
    "    q = c * np.concatenate((np.zeros((1,feature_num)),train_y.T),axis=1)\n",
    "\n",
    "    h = np.concatenate((-np.ones((row_training,1)),np.zeros((row_training,1))),axis=0)\n",
    "\n",
    "    x = np.concatenate((train_x,np.zeros((row_training,feature_num))),axis=0) #336 x 347\n",
    "    eye = np.eye(row_training) # 336 x 336\n",
    "    eye = np.vstack((eye,eye)) #Add ones column as bias -> already added above\n",
    "    x = np.concatenate((x,eye),axis=1) #672 x 347\n",
    "    y = np.concatenate((train_y,train_y),axis=0)\n",
    "    G = -y * x\n",
    "\n",
    "    # Quadprop for Primal\n",
    "\n",
    "    # Define QP parameters (directly)\n",
    "    P_ = matrix(P)\n",
    "    q_ = matrix(q.T)\n",
    "    G_ = matrix(G)\n",
    "    h_ = matrix(h)\n",
    "\n",
    "    # Construct the QP, invoke solver\n",
    "    sol = solvers.qp(P_,q_,G_,h_)\n",
    "\n",
    "    # Get weight and b\n",
    "    train_w = np.array(sol['x'])\n",
    "    train_w = train_w[0:feature_num]\n",
    "    \n",
    "    return train_w\n",
    "\n",
    "def load_data(filename):\n",
    "    input = np.loadtxt(filename, delimiter=',')\n",
    "    row_length,col_length = input.shape\n",
    "\n",
    "    # Initialize training\n",
    "    train_x = input[:,0:col_length-1]\n",
    "    train_y = input[:,col_length-1:col_length]\n",
    "    train_y[train_y == 0] = -1\n",
    "    return [train_x,train_y]\n",
    "\n",
    "def testing(filename,w,V_r):\n",
    "    data = load_data(filename)\n",
    "    train_x = data[0]\n",
    "    train_y = data[1]\n",
    "    \n",
    "    row_length,col_length = train_x.shape\n",
    "\n",
    "    \n",
    "    #Projection of X along given eigenvectors\n",
    "    X_r = np.dot(train_x,V_r) # Projection of X along eigen vectors\n",
    "    Y = np.reshape(train_y,(train_y.shape[0],1))\n",
    "    \n",
    "#     SVM_data = np.concatenate((X_r,Y),axis=1) #672 x 347\n",
    "    num_feature = X_r.shape[1]\n",
    "    f = np.dot(X_r,w[0:num_feature]) + w[num_feature]\n",
    "    f[f < 0] = -1\n",
    "    f[f > 0] =  1 \n",
    "    accuracy = 100*np.count_nonzero(Y*f+1)/row_length\n",
    "    return accuracy"
   ]
  },
  {
   "cell_type": "code",
   "execution_count": 164,
   "metadata": {
    "collapsed": true
   },
   "outputs": [],
   "source": [
    "def PCA(filename,k):\n",
    "    # Read data\n",
    "    data = load_data(filename)\n",
    "    X = data[0]\n",
    "    Y = data[1]\n",
    "    # Define input and output\n",
    "    num_data = X.shape[0]\n",
    "    num_feature = X.shape[1]\n",
    "    # Construct matrix W - sample covariance matrix \n",
    "    X_mean = np.mean(X,axis=0)\n",
    "    X_mean = np.reshape(X_mean,(num_feature,1))\n",
    "    W = X - np.dot(np.ones((num_data,1)),X_mean.T)\n",
    "    # Find SVD of W - covariance matrix\n",
    "    U, s, V = np.linalg.svd(W, full_matrices=True)\n",
    "    # eigen vectors and eigen value of covariance matrix \n",
    "    eigen_vec = U\n",
    "    # s = np.reshape(s,(s.shape[0],1))\n",
    "    # eigen_value = np.dot(s,s.T)\n",
    "    eigen_value = s * s\n",
    "    # Top k eigen value\n",
    "    print(\"Top \",k,\" eigen values: \",eigen_value[:k])\n",
    "    V_r = V[:,:k]\n",
    "    return V_r"
   ]
  },
  {
   "cell_type": "code",
   "execution_count": 180,
   "metadata": {
    "collapsed": false
   },
   "outputs": [
    {
     "name": "stdout",
     "output_type": "stream",
     "text": [
      "Top  3  eigen values:  [  1.52029434e+09   1.28884476e+08   3.44289156e+06]\n",
      "     pcost       dcost       gap    pres   dres\n",
      " 0: -6.7519e+02  2.0280e+04  3e+05  1e+01  5e+02\n",
      " 1:  1.4814e+04 -2.7097e+04  5e+04  2e+00  9e+01\n",
      " 2:  1.1306e+04 -2.1590e+03  1e+04  2e-01  1e+01\n",
      " 3:  3.1309e+03  1.1590e+03  2e+03  3e-02  1e+00\n",
      " 4:  2.4654e+03  1.4305e+03  1e+03  1e-02  7e-01\n",
      " 5:  2.4413e+03  1.5393e+03  9e+02  6e-03  3e-01\n",
      " 6:  1.9817e+03  1.7189e+03  3e+02  1e-03  6e-02\n",
      " 7:  1.8859e+03  1.7731e+03  1e+02  4e-04  2e-02\n",
      " 8:  1.8577e+03  1.7899e+03  7e+01  2e-04  1e-02\n",
      " 9:  1.8355e+03  1.8042e+03  3e+01  8e-05  4e-03\n",
      "10:  1.8291e+03  1.8083e+03  2e+01  5e-05  3e-03\n",
      "11:  1.8222e+03  1.8130e+03  9e+00  2e-05  1e-03\n",
      "12:  1.8187e+03  1.8152e+03  4e+00  5e-16  2e-13\n",
      "13:  1.8172e+03  1.8167e+03  5e-01  6e-16  6e-14\n",
      "14:  1.8170e+03  1.8169e+03  2e-01  5e-16  7e-12\n",
      "15:  1.8170e+03  1.8169e+03  2e-02  6e-16  2e-12\n",
      "16:  1.8169e+03  1.8169e+03  4e-04  5e-16  5e-12\n",
      "Optimal solution found.\n",
      "Top  3  eigen values:  [  1.28577529e+08   3.92867543e+05   2.86376741e+04]\n",
      "c = 1  Accuracy on validation test = 96.75\n",
      "     pcost       dcost       gap    pres   dres\n",
      " 0: -1.7214e+05  8.6534e+05  7e+06  5e+01  3e+02\n",
      " 1:  6.1890e+05 -6.7799e+05  2e+06  1e+01  4e+01\n",
      " 2:  3.2209e+05 -1.5626e+04  3e+05  5e-01  3e+00\n",
      " 3:  2.9423e+04  1.1176e+04  2e+04  2e-02  1e-01\n",
      " 4:  2.2022e+04  1.5480e+04  7e+03  6e-03  3e-02\n",
      " 5:  2.0641e+04  1.6497e+04  4e+03  3e-03  2e-02\n",
      " 6:  1.9301e+04  1.7344e+04  2e+03  1e-03  7e-03\n",
      " 7:  1.8755e+04  1.7723e+04  1e+03  7e-04  3e-03\n",
      " 8:  1.8461e+04  1.7931e+04  5e+02  3e-04  1e-03\n",
      " 9:  1.8333e+04  1.8024e+04  3e+02  2e-04  7e-04\n",
      "10:  1.8277e+04  1.8066e+04  2e+02  1e-04  4e-04\n",
      "11:  1.8214e+04  1.8113e+04  1e+02  4e-05  2e-04\n",
      "12:  1.8181e+04  1.8136e+04  5e+01  6e-16  2e-13\n",
      "13:  1.8166e+04  1.8150e+04  2e+01  5e-16  4e-13\n",
      "14:  1.8160e+04  1.8155e+04  5e+00  5e-16  8e-13\n",
      "15:  1.8158e+04  1.8157e+04  9e-01  5e-16  2e-12\n",
      "16:  1.8158e+04  1.8158e+04  3e-02  5e-16  6e-13\n",
      "17:  1.8158e+04  1.8158e+04  3e-04  6e-16  7e-13\n",
      "Optimal solution found.\n",
      "Top  3  eigen values:  [  1.28577529e+08   3.92867543e+05   2.86376741e+04]\n",
      "c = 10  Accuracy on validation test = 96.75\n",
      "     pcost       dcost       gap    pres   dres\n",
      " 0: -1.8261e+07  7.5943e+07  5e+08  5e+02  2e+02\n",
      " 1:  5.4116e+07 -5.3114e+07  1e+08  9e+01  4e+01\n",
      " 2:  2.3899e+07 -6.3892e+05  2e+07  2e+00  9e-01\n",
      " 3:  5.3001e+05  1.0577e+05  4e+05  3e-02  1e-02\n",
      " 4:  2.2285e+05  1.3462e+05  9e+04  6e-03  3e-03\n",
      " 5:  2.0339e+05  1.6206e+05  4e+04  2e-03  9e-04\n",
      " 6:  1.9289e+05  1.7154e+05  2e+04  9e-04  4e-04\n",
      " 7:  1.8731e+05  1.7650e+05  1e+04  4e-04  2e-04\n",
      " 8:  1.8436e+05  1.7912e+05  5e+03  2e-04  7e-05\n",
      " 9:  1.8318e+05  1.8015e+05  3e+03  9e-05  4e-05\n",
      "10:  1.8263e+05  1.8062e+05  2e+03  5e-05  2e-05\n",
      "11:  1.8209e+05  1.8110e+05  1e+03  2e-05  1e-05\n",
      "12:  1.8176e+05  1.8138e+05  4e+02  5e-16  4e-14\n",
      "13:  1.8160e+05  1.8153e+05  6e+01  5e-16  6e-13\n",
      "14:  1.8157e+05  1.8156e+05  1e+01  5e-16  9e-13\n",
      "15:  1.8157e+05  1.8157e+05  1e+00  6e-16  3e-13\n",
      "16:  1.8157e+05  1.8157e+05  1e-02  5e-16  1e-13\n",
      "Optimal solution found.\n",
      "Top  3  eigen values:  [  1.28577529e+08   3.92867543e+05   2.86376741e+04]\n",
      "c = 100  Accuracy on validation test = 96.75\n",
      "     pcost       dcost       gap    pres   dres\n",
      " 0: -1.8365e+09  7.4894e+09  5e+10  5e+03  2e+02\n",
      " 1:  5.3182e+09 -5.2163e+09  1e+10  8e+02  4e+01\n",
      " 2:  2.3256e+09 -6.3016e+07  2e+09  2e+01  7e-01\n",
      " 3:  3.1207e+07  1.0402e+06  3e+07  2e-01  8e-03\n",
      " 4:  2.8064e+06  1.1039e+06  2e+06  1e-02  5e-04\n",
      " 5:  2.3209e+06  1.4809e+06  8e+05  4e-03  2e-04\n",
      " 6:  2.1205e+06  1.6308e+06  5e+05  2e-03  8e-05\n",
      " 7:  1.9466e+06  1.7289e+06  2e+05  7e-04  3e-05\n",
      " 8:  1.8813e+06  1.7706e+06  1e+05  3e-04  1e-05\n",
      " 9:  1.8479e+06  1.7928e+06  6e+04  1e-04  6e-06\n",
      "10:  1.8335e+06  1.8027e+06  3e+04  7e-05  3e-06\n",
      "11:  1.8270e+06  1.8072e+06  2e+04  4e-05  2e-06\n",
      "12:  1.8211e+06  1.8115e+06  1e+04  2e-05  7e-07\n",
      "13:  1.8172e+06  1.8141e+06  3e+03  5e-16  2e-13\n",
      "14:  1.8161e+06  1.8152e+06  9e+02  6e-16  3e-13\n",
      "15:  1.8158e+06  1.8155e+06  2e+02  5e-16  2e-12\n",
      "16:  1.8157e+06  1.8156e+06  2e+01  6e-16  3e-13\n",
      "17:  1.8157e+06  1.8157e+06  2e-01  7e-16  5e-13\n",
      "Optimal solution found.\n",
      "Top  3  eigen values:  [  1.28577529e+08   3.92867543e+05   2.86376741e+04]\n",
      "c = 1000  Accuracy on validation test = 96.75\n"
     ]
    }
   ],
   "source": [
    "# Training\n",
    "\n",
    "# Vr\n",
    "train_file = \"spam_train.data\"\n",
    "valid_file = \"spam_validation.data\"\n",
    "k = 3\n",
    "V_r = PCA(train_file,k)\n",
    "\n",
    "# Prepare data\n",
    "data = load_data(train_file)\n",
    "X = data[0]\n",
    "Y = data[1]\n",
    "X_r = np.dot(X,V_r) # Projection of X along eigen vectors\n",
    "Y = np.reshape(Y,(Y.shape[0],1))\n",
    "SVM_data = np.concatenate((X_r,Y),axis=1) #672 x 347\n",
    "\n",
    "# Feed data to SVM\n",
    "for c in [1,10,100,1000]:\n",
    "    train_w = SVM_primal(SVM_data,c)\n",
    "\n",
    "    # Testing on validation set\n",
    "    V_r = PCA(valid_file,k)\n",
    "    print(\"c =\",c,\" Accuracy on validation test =\",testing(valid_file,train_w,V_r))"
   ]
  },
  {
   "cell_type": "code",
   "execution_count": 133,
   "metadata": {
    "collapsed": false
   },
   "outputs": [
    {
     "name": "stdout",
     "output_type": "stream",
     "text": [
      "Top  1  eigen values:  [  1.52029434e+09]\n"
     ]
    }
   ],
   "source": [
    "# Training\n",
    "import numpy as np\n",
    "# Read data\n",
    "filename = \"spam_train.data\"\n",
    "data = np.loadtxt(filename,delimiter=',')\n",
    "# Define input and output\n",
    "num_data = data.shape[0]\n",
    "num_feature = data.shape[1]-1\n",
    "X = data[:,0:num_feature]\n",
    "Y = data[:,num_feature]\n",
    "# Construct matrix W - sample covariance matrix \n",
    "X_mean = np.mean(X,axis=0)\n",
    "X_mean = np.reshape(X_mean,(57,1))\n",
    "W = X - np.dot(np.ones((num_data,1)),X_mean.T)\n",
    "# Find SVD of W - covariance matrix\n",
    "U, s, V = np.linalg.svd(W, full_matrices=True)\n",
    "# eigen vectors and eigen value of covariance matrix \n",
    "eigen_vec = U\n",
    "# s = np.reshape(s,(s.shape[0],1))\n",
    "# eigen_value = np.dot(s,s.T)\n",
    "eigen_value = s * s\n",
    "# Top k eigen value\n",
    "k = 1\n",
    "print(\"Top \",k,\" eigen values: \",eigen_value[:k])"
   ]
  },
  {
   "cell_type": "code",
   "execution_count": 176,
   "metadata": {
    "collapsed": false
   },
   "outputs": [
    {
     "name": "stdout",
     "output_type": "stream",
     "text": [
      "Top  6  eigen values:  [  1.28577529e+08   3.92867543e+05   2.86376741e+04   6.70054786e+03\n",
      "   4.29256011e+03   1.79410591e+03]\n"
     ]
    },
    {
     "data": {
      "text/plain": [
       "0.75"
      ]
     },
     "execution_count": 176,
     "metadata": {},
     "output_type": "execute_result"
    }
   ],
   "source": [
    "# Testing on Validation set\n",
    "\n",
    "# File Vr\n",
    "filename = \"spam_validation.data\"\n",
    "k = 6\n",
    "V_r = PCA(filename,k)\n",
    "\n",
    "# Prepare data\n",
    "# data = load_data(filename)\n",
    "# X = data[0]\n",
    "# Y = data[1]\n",
    "# X_r = np.dot(X,V_r) # Projection of X along eigen vectors\n",
    "# Y = np.reshape(Y,(Y.shape[0],1))\n",
    "# SVM_data = np.concatenate((X_r,Y),axis=1) #672 x 347\n",
    "\n",
    "testing(filename,train_w,V_r)\n"
   ]
  },
  {
   "cell_type": "code",
   "execution_count": 141,
   "metadata": {
    "collapsed": false
   },
   "outputs": [
    {
     "data": {
      "text/plain": [
       "57"
      ]
     },
     "execution_count": 141,
     "metadata": {},
     "output_type": "execute_result"
    }
   ],
   "source": [
    "data = load_data(\"spam_train.data\")\n",
    "X = data[0]\n",
    "Y = data[1]\n",
    "# Define input and output\n",
    "num_data = X.shape[0]\n",
    "num_feature = X.shape[1]\n",
    "num_feature"
   ]
  },
  {
   "cell_type": "code",
   "execution_count": 134,
   "metadata": {
    "collapsed": true
   },
   "outputs": [],
   "source": [
    "# PCA and SVM\n",
    "# k eigen vector\n",
    "V_r = V[:,0:k]\n",
    "X_r = np.dot(X,V_r) # Projection of X along eigen vectors\n",
    "Y = np.reshape(Y,(Y.shape[0],1))\n",
    "Y[Y==0] = -1\n",
    "SVM_data = np.concatenate((X_r,Y),axis=1) #672 x 347"
   ]
  },
  {
   "cell_type": "code",
   "execution_count": 135,
   "metadata": {
    "collapsed": false
   },
   "outputs": [
    {
     "name": "stdout",
     "output_type": "stream",
     "text": [
      "     pcost       dcost       gap    pres   dres\n",
      " 0: -1.5912e+07  4.8937e+07  3e+08  4e+02  1e+02\n",
      " 1:  3.5692e+07 -1.9158e+07  7e+07  6e+01  2e+01\n",
      " 2:  7.7086e+06  1.3826e+05  8e+06  3e-14  1e-13\n",
      " 3:  3.6304e+05  1.4273e+05  2e+05  9e-15  2e-13\n",
      " 4:  3.1430e+05  2.0362e+05  1e+05  4e-15  1e-13\n",
      " 5:  2.5683e+05  2.3616e+05  2e+04  4e-16  9e-14\n",
      " 6:  2.3765e+05  2.3737e+05  3e+02  3e-16  2e-13\n",
      " 7:  2.3740e+05  2.3740e+05  3e+00  3e-16  2e-13\n",
      " 8:  2.3740e+05  2.3740e+05  3e-02  3e-16  1e-13\n",
      "Optimal solution found.\n"
     ]
    }
   ],
   "source": [
    "c= 100\n",
    "solv = SVM_primal(SVM_data,c)\n",
    "# print(\"c =\",c,\" Accuracy on validation test =\",testing(SVM_data,solv[0],solv[1]))"
   ]
  },
  {
   "cell_type": "code",
   "execution_count": 138,
   "metadata": {
    "collapsed": false
   },
   "outputs": [
    {
     "data": {
      "text/plain": [
       "60.43333333333333"
      ]
     },
     "execution_count": 138,
     "metadata": {},
     "output_type": "execute_result"
    }
   ],
   "source": [
    "# test on validation \n",
    "filename = \"spam_train.data\"\n",
    "testing(filename,solv,V_r)"
   ]
  },
  {
   "cell_type": "code",
   "execution_count": 143,
   "metadata": {
    "collapsed": false
   },
   "outputs": [
    {
     "data": {
      "text/plain": [
       "array([[  5.14359971e-08],\n",
       "       [  9.99999777e-01]])"
      ]
     },
     "execution_count": 143,
     "metadata": {},
     "output_type": "execute_result"
    }
   ],
   "source": [
    "solv"
   ]
  },
  {
   "cell_type": "code",
   "execution_count": null,
   "metadata": {
    "collapsed": true
   },
   "outputs": [],
   "source": []
  },
  {
   "cell_type": "code",
   "execution_count": 168,
   "metadata": {
    "collapsed": false
   },
   "outputs": [
    {
     "name": "stdout",
     "output_type": "stream",
     "text": [
      "Top  2  eigen values:  [  1.28577529e+08   3.92867543e+05]\n"
     ]
    },
    {
     "ename": "IndexError",
     "evalue": "index 2 is out of bounds for axis 0 with size 2",
     "output_type": "error",
     "traceback": [
      "\u001b[0;31m---------------------------------------------------------------------------\u001b[0m",
      "\u001b[0;31mIndexError\u001b[0m                                Traceback (most recent call last)",
      "\u001b[0;32m<ipython-input-168-563f3e65c101>\u001b[0m in \u001b[0;36m<module>\u001b[0;34m()\u001b[0m\n\u001b[1;32m      3\u001b[0m \u001b[0mV_r\u001b[0m \u001b[1;33m=\u001b[0m \u001b[0mPCA\u001b[0m\u001b[1;33m(\u001b[0m\u001b[0mfilename\u001b[0m\u001b[1;33m,\u001b[0m\u001b[1;36m2\u001b[0m\u001b[1;33m)\u001b[0m\u001b[1;33m\u001b[0m\u001b[0m\n\u001b[1;32m      4\u001b[0m \u001b[1;31m# V_r\u001b[0m\u001b[1;33m\u001b[0m\u001b[1;33m\u001b[0m\u001b[0m\n\u001b[0;32m----> 5\u001b[0;31m \u001b[0mtesting\u001b[0m\u001b[1;33m(\u001b[0m\u001b[0mfilename\u001b[0m\u001b[1;33m,\u001b[0m\u001b[0msolv\u001b[0m\u001b[1;33m,\u001b[0m\u001b[0mV_r\u001b[0m\u001b[1;33m)\u001b[0m\u001b[1;33m\u001b[0m\u001b[0m\n\u001b[0m",
      "\u001b[0;32m<ipython-input-131-5a29d8fe1d33>\u001b[0m in \u001b[0;36mtesting\u001b[0;34m(filename, w, V_r)\u001b[0m\n\u001b[1;32m     74\u001b[0m \u001b[1;31m#     SVM_data = np.concatenate((X_r,Y),axis=1) #672 x 347\u001b[0m\u001b[1;33m\u001b[0m\u001b[1;33m\u001b[0m\u001b[0m\n\u001b[1;32m     75\u001b[0m     \u001b[0mnum_feature\u001b[0m \u001b[1;33m=\u001b[0m \u001b[0mX_r\u001b[0m\u001b[1;33m.\u001b[0m\u001b[0mshape\u001b[0m\u001b[1;33m[\u001b[0m\u001b[1;36m1\u001b[0m\u001b[1;33m]\u001b[0m\u001b[1;33m\u001b[0m\u001b[0m\n\u001b[0;32m---> 76\u001b[0;31m     \u001b[0mf\u001b[0m \u001b[1;33m=\u001b[0m \u001b[0mnp\u001b[0m\u001b[1;33m.\u001b[0m\u001b[0mdot\u001b[0m\u001b[1;33m(\u001b[0m\u001b[0mX_r\u001b[0m\u001b[1;33m,\u001b[0m\u001b[0mw\u001b[0m\u001b[1;33m[\u001b[0m\u001b[1;36m0\u001b[0m\u001b[1;33m:\u001b[0m\u001b[0mnum_feature\u001b[0m\u001b[1;33m]\u001b[0m\u001b[1;33m)\u001b[0m \u001b[1;33m+\u001b[0m \u001b[0mw\u001b[0m\u001b[1;33m[\u001b[0m\u001b[0mnum_feature\u001b[0m\u001b[1;33m]\u001b[0m\u001b[1;33m\u001b[0m\u001b[0m\n\u001b[0m\u001b[1;32m     77\u001b[0m     \u001b[0mf\u001b[0m\u001b[1;33m[\u001b[0m\u001b[0mf\u001b[0m \u001b[1;33m<\u001b[0m \u001b[1;36m0\u001b[0m\u001b[1;33m]\u001b[0m \u001b[1;33m=\u001b[0m \u001b[1;33m-\u001b[0m\u001b[1;36m1\u001b[0m\u001b[1;33m\u001b[0m\u001b[0m\n\u001b[1;32m     78\u001b[0m     \u001b[0mf\u001b[0m\u001b[1;33m[\u001b[0m\u001b[0mf\u001b[0m \u001b[1;33m>\u001b[0m \u001b[1;36m0\u001b[0m\u001b[1;33m]\u001b[0m \u001b[1;33m=\u001b[0m  \u001b[1;36m1\u001b[0m\u001b[1;33m\u001b[0m\u001b[0m\n",
      "\u001b[0;31mIndexError\u001b[0m: index 2 is out of bounds for axis 0 with size 2"
     ]
    }
   ],
   "source": [
    "# test on validation \n",
    "filename = \"spam_validation.data\"\n",
    "V_r = PCA(filename,2)\n",
    "# V_r\n",
    "testing(filename,solv,V_r)"
   ]
  },
  {
   "cell_type": "code",
   "execution_count": 167,
   "metadata": {
    "collapsed": false
   },
   "outputs": [
    {
     "data": {
      "text/plain": [
       "(57, 2)"
      ]
     },
     "execution_count": 167,
     "metadata": {},
     "output_type": "execute_result"
    }
   ],
   "source": [
    "V_r.shape"
   ]
  },
  {
   "cell_type": "code",
   "execution_count": 88,
   "metadata": {
    "collapsed": true
   },
   "outputs": [],
   "source": [
    "# test on validation \n",
    "filename = \"spam_validation.data\"\n",
    "data = np.loadtxt(filename,delimiter=',')\n",
    "# Define input and output\n",
    "num_data = data.shape[0]\n",
    "num_feature = data.shape[1]-1\n",
    "X = data[:,0:num_feature]\n",
    "Y = data[:,num_feature]\n",
    "\n",
    "#Projection of X along given eigenvectors\n",
    "X_r = np.dot(X,V_r) # Projection of X along eigen vectors\n",
    "Y = np.reshape(Y,(Y.shape[0],1))\n",
    "Y[Y==0] = -1\n",
    "SVM_data = np.concatenate((X_r,Y),axis=1) #672 x 347"
   ]
  },
  {
   "cell_type": "code",
   "execution_count": null,
   "metadata": {
    "collapsed": true
   },
   "outputs": [],
   "source": [
    "testing(SVM_data,solv[0],solv[1],V)"
   ]
  }
 ],
 "metadata": {
  "kernelspec": {
   "display_name": "Python 3",
   "language": "python",
   "name": "python3"
  },
  "language_info": {
   "codemirror_mode": {
    "name": "ipython",
    "version": 3
   },
   "file_extension": ".py",
   "mimetype": "text/x-python",
   "name": "python",
   "nbconvert_exporter": "python",
   "pygments_lexer": "ipython3",
   "version": "3.5.2"
  }
 },
 "nbformat": 4,
 "nbformat_minor": 2
}
