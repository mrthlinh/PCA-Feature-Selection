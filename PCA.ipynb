{
 "cells": [
  {
   "cell_type": "code",
   "execution_count": 46,
   "metadata": {
    "collapsed": false
   },
   "outputs": [],
   "source": [
    "from cvxopt import matrix\n",
    "from cvxopt import solvers\n",
    "def SVM_primal(input,c):\n",
    "    # Load input\n",
    "    row_length,col_length = input.shape\n",
    "    row_training  = row_length\n",
    "\n",
    "    # Initialize training\n",
    "    train_x = input[:,0:col_length-1]\n",
    "    train_x = np.concatenate((train_x,np.ones((row_training,1))),axis = 1)#Add ones column as bias\n",
    "    train_y = input[:,col_length-1:col_length]\n",
    "    feature_num = train_x.shape[1] #11\n",
    "\n",
    "    P = np.eye(feature_num-1)\n",
    "    P = np.concatenate((P,np.zeros((feature_num-1,row_training+1))),axis = 1)\n",
    "    P = np.concatenate((P,np.zeros((row_training+1,row_training+feature_num))),axis = 0) #347 x 347\n",
    "\n",
    "    q = c * np.concatenate((np.zeros((1,feature_num)),train_y.T),axis=1)\n",
    "\n",
    "    h = np.concatenate((-np.ones((row_training,1)),np.zeros((row_training,1))),axis=0)\n",
    "\n",
    "    x = np.concatenate((train_x,np.zeros((row_training,feature_num))),axis=0) #336 x 347\n",
    "    eye = np.eye(row_training) # 336 x 336\n",
    "    eye = np.vstack((eye,eye)) #Add ones column as bias -> already added above\n",
    "    x = np.concatenate((x,eye),axis=1) #672 x 347\n",
    "    y = np.concatenate((train_y,train_y),axis=0)\n",
    "    G = -y * x\n",
    "\n",
    "    # Quadprop for Primal\n",
    "\n",
    "    # Define QP parameters (directly)\n",
    "    P_ = matrix(P)\n",
    "    q_ = matrix(q.T)\n",
    "    G_ = matrix(G)\n",
    "    h_ = matrix(h)\n",
    "\n",
    "    # Construct the QP, invoke solver\n",
    "    sol = solvers.qp(P_,q_,G_,h_)\n",
    "\n",
    "    # Get weight and b\n",
    "    train_w = np.array(sol['x'])\n",
    "    train_w = train_w[0:feature_num]\n",
    "#     f = np.dot(train_x,train_w)\n",
    "#     f[f < 0] = -1\n",
    "#     f[f > 0] =  1 \n",
    "\n",
    "#     #print training accurary\n",
    "#     print (\"Accuracy: \"+str(100*np.count_nonzero(train_y*f+1)/row_training))\n",
    "    return train_w\n",
    "\n",
    "# def load_data(filename):\n",
    "#     input = np.loadtxt(filename, delimiter=',')\n",
    "#     row_length,col_length = input.shape\n",
    "\n",
    "#     # Initialize training\n",
    "#     train_x = input[:,0:col_length-1]\n",
    "#     train_x = np.concatenate((train_x,np.ones((row_length,1))),axis = 1)#Add ones column as bias\n",
    "#     train_y = input[:,col_length-1:col_length]\n",
    "#     return [train_x,train_y]\n",
    "\n",
    "def testing(input,w):\n",
    "    row_length,col_length = input.shape\n",
    "    train_x = input[:,0:col_length-1]\n",
    "    train_x = np.concatenate((train_x,np.ones((row_length,1))),axis = 1)#Add ones column as bias\n",
    "    train_y = input[:,col_length-1:col_length]\n",
    "\n",
    "    f = np.dot(train_x,w)\n",
    "    f[f < 0] = -1\n",
    "    f[f > 0] =  1 \n",
    "    accuracy = 100*np.count_nonzero(train_y*f+1)/row_length\n",
    "    return accuracy"
   ]
  },
  {
   "cell_type": "code",
   "execution_count": 19,
   "metadata": {
    "collapsed": false
   },
   "outputs": [
    {
     "name": "stdout",
     "output_type": "stream",
     "text": [
      "Top 6 eigen values:  [  1.52029434e+09   1.28884476e+08   3.44289156e+06   1.68285514e+04\n",
      "   1.16228317e+04   8.97974605e+03]\n"
     ]
    }
   ],
   "source": [
    "import numpy as np\n",
    "# Read data\n",
    "filename = \"spam_train.data\"\n",
    "data = np.loadtxt(filename,delimiter=',')\n",
    "# Define input and output\n",
    "num_data = data.shape[0]\n",
    "num_feature = data.shape[1]-1\n",
    "X = data[:,0:num_feature]\n",
    "Y = data[:,num_feature]\n",
    "# Construct matrix W - sample covariance matrix \n",
    "X_mean = np.mean(X,axis=0)\n",
    "X_mean = np.reshape(X_mean,(57,1))\n",
    "W = X - np.dot(np.ones((num_data,1)),X_mean.T)\n",
    "# Find SVD of W - covariance matrix\n",
    "U, s, V = np.linalg.svd(W, full_matrices=True)\n",
    "# eigen vectors and eigen value of covariance matrix \n",
    "eigen_vec = U\n",
    "# s = np.reshape(s,(s.shape[0],1))\n",
    "# eigen_value = np.dot(s,s.T)\n",
    "eigen_value = s * s\n",
    "# Top 6 eigen value\n",
    "print(\"Top 6 eigen values: \",eigen_value[:6])"
   ]
  },
  {
   "cell_type": "code",
   "execution_count": 68,
   "metadata": {
    "collapsed": false
   },
   "outputs": [
    {
     "name": "stdout",
     "output_type": "stream",
     "text": [
      "     pcost       dcost       gap    pres   dres\n",
      " 0: -1.8705e+09  7.1016e+09  5e+10  5e+03  2e+02\n",
      " 1:  4.9790e+09 -4.5201e+09  1e+10  8e+02  3e+01\n",
      " 2:  1.9471e+09 -3.1577e+07  2e+09  9e+00  4e-01\n",
      " 3:  3.0381e+07  1.0260e+06  3e+07  1e-01  6e-03\n",
      " 4:  2.9934e+06  1.0856e+06  2e+06  9e-03  4e-04\n",
      " 5:  2.4098e+06  1.4174e+06  1e+06  4e-03  2e-04\n",
      " 6:  2.1215e+06  1.5756e+06  5e+05  2e-03  7e-05\n",
      " 7:  1.9809e+06  1.6549e+06  3e+05  9e-04  4e-05\n",
      " 8:  1.8849e+06  1.7108e+06  2e+05  4e-04  2e-05\n",
      " 9:  1.8234e+06  1.7485e+06  8e+04  2e-04  7e-06\n",
      "10:  1.7984e+06  1.7646e+06  3e+04  7e-05  3e-06\n",
      "11:  1.7870e+06  1.7706e+06  2e+04  5e-16  1e-13\n",
      "12:  1.7801e+06  1.7767e+06  3e+03  5e-16  1e-13\n",
      "13:  1.7786e+06  1.7781e+06  5e+02  6e-16  7e-14\n",
      "14:  1.7784e+06  1.7783e+06  1e+02  6e-16  1e-12\n",
      "15:  1.7784e+06  1.7784e+06  2e+01  5e-16  5e-12\n",
      "16:  1.7784e+06  1.7784e+06  2e+00  5e-16  6e-12\n",
      "Optimal solution found.\n"
     ]
    }
   ],
   "source": [
    "# PCA and SVM\n",
    "# six eigen vector\n",
    "V_r = V[:,0:5]\n",
    "X_r = np.dot(X,V_r)\n",
    "Y = np.reshape(Y,(Y.shape[0],1))\n",
    "Y[Y==0] = -1\n",
    "SVM_data = np.concatenate((X_r,Y),axis=1) #672 x 347\n",
    "c= 1000\n",
    "SVM_w = SVM_primal(SVM_data,c)"
   ]
  },
  {
   "cell_type": "code",
   "execution_count": 67,
   "metadata": {
    "collapsed": false
   },
   "outputs": [
    {
     "data": {
      "text/plain": [
       "75.96666666666667"
      ]
     },
     "execution_count": 67,
     "metadata": {},
     "output_type": "execute_result"
    }
   ],
   "source": [
    "testing(SVM_data,SVM_w) #c = 10"
   ]
  },
  {
   "cell_type": "code",
   "execution_count": 69,
   "metadata": {
    "collapsed": false
   },
   "outputs": [
    {
     "data": {
      "text/plain": [
       "75.96666666666667"
      ]
     },
     "execution_count": 69,
     "metadata": {},
     "output_type": "execute_result"
    }
   ],
   "source": [
    "testing(SVM_data,SVM_w) #c = 1000"
   ]
  }
 ],
 "metadata": {
  "kernelspec": {
   "display_name": "Python 3",
   "language": "python",
   "name": "python3"
  },
  "language_info": {
   "codemirror_mode": {
    "name": "ipython",
    "version": 3
   },
   "file_extension": ".py",
   "mimetype": "text/x-python",
   "name": "python",
   "nbconvert_exporter": "python",
   "pygments_lexer": "ipython3",
   "version": "3.5.2"
  }
 },
 "nbformat": 4,
 "nbformat_minor": 2
}
