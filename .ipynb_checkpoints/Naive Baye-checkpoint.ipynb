{
 "cells": [
  {
   "cell_type": "code",
   "execution_count": 54,
   "metadata": {
    "collapsed": false
   },
   "outputs": [],
   "source": [
    "# Import library\n",
    "import numpy as np\n",
    "from scipy.stats import norm\n",
    "# Read data\n",
    "train_file = \"spam_train.data\"\n",
    "data = np.loadtxt(train_file,delimiter=',')\n",
    "row_length,col_length = data.shape\n",
    "\n",
    "# Initialize training\n",
    "train_x = data[:,0:col_length-1]\n",
    "train_y = data[:,col_length-1:col_length]\n",
    "\n",
    "X_neg = train_x[np.where(train_y==0)[0],:]\n",
    "X_pos = train_x[np.where(train_y==1)[0],:]\n",
    "\n",
    "p_neg = train_y[train_y == 0] / row_length\n",
    "p_pos = train_y[train_y == 1] / row_length\n",
    "\n",
    "# Build gaussian distribution for y = 0 using MLE\n",
    "MLE_u_neg = np.mean(X_neg,axis=1,keepdims=True)\n",
    "MLE_std_neg = np.square(X_neg - MLE_u_neg)\n",
    "MLE_std_neg = np.mean(MLE_std_neg,axis=1,keepdims=True)\n",
    "\n",
    "\n",
    "join_dist_neg = norm.pdf(X_neg,loc = MLE_u_neg,scale = MLE_std_neg)\n",
    "join_dist_neg = np.product(join_dist_neg)\n",
    "\n",
    "# Build gaussian distribution for y = 1 using MLE\n",
    "MLE_u_pos = np.mean(X_pos,axis=1,keepdims=True)\n",
    "MLE_std_pos = np.square(X_pos - MLE_u_pos)\n",
    "MLE_std_pos = np.sum(MLE_std_pos,axis=1,keepdims=True) / (row_length-1)\n",
    "\n",
    "join_dist_pos = norm.pdf(X_pos,loc = MLE_u_pos,scale = MLE_std_pos)\n",
    "join_dist_pos = np.product(join_dist_pos)\n",
    "\n",
    "# Predict"
   ]
  },
  {
   "cell_type": "code",
   "execution_count": 37,
   "metadata": {
    "collapsed": true
   },
   "outputs": [],
   "source": [
    "join_dist_neg = norm.pdf(X_neg,loc = MLE_u_neg,scale = MLE_std_neg)"
   ]
  },
  {
   "cell_type": "code",
   "execution_count": 39,
   "metadata": {
    "collapsed": false
   },
   "outputs": [
    {
     "data": {
      "text/plain": [
       "(1187, 57)"
      ]
     },
     "execution_count": 39,
     "metadata": {},
     "output_type": "execute_result"
    }
   ],
   "source": [
    "join_dist_neg.shape"
   ]
  },
  {
   "cell_type": "code",
   "execution_count": 40,
   "metadata": {
    "collapsed": false
   },
   "outputs": [
    {
     "data": {
      "text/plain": [
       "(1187, 57)"
      ]
     },
     "execution_count": 40,
     "metadata": {},
     "output_type": "execute_result"
    }
   ],
   "source": [
    "X_neg.shape"
   ]
  },
  {
   "cell_type": "code",
   "execution_count": 50,
   "metadata": {
    "collapsed": false
   },
   "outputs": [],
   "source": [
    "a = np.array([[1,2,3],[3,4,5]])\n",
    "u = np.array([0,1,2])\n",
    "sd = np.array([1,2,3])\n",
    "r = norm.pdf(a,loc = u,scale = sd)"
   ]
  },
  {
   "cell_type": "code",
   "execution_count": 52,
   "metadata": {
    "collapsed": false
   },
   "outputs": [
    {
     "data": {
      "text/plain": [
       "360"
      ]
     },
     "execution_count": 52,
     "metadata": {},
     "output_type": "execute_result"
    }
   ],
   "source": [
    "np.product(a)"
   ]
  },
  {
   "cell_type": "code",
   "execution_count": 49,
   "metadata": {
    "collapsed": false
   },
   "outputs": [
    {
     "data": {
      "text/plain": [
       "0.064758797832945872"
      ]
     },
     "execution_count": 49,
     "metadata": {},
     "output_type": "execute_result"
    }
   ],
   "source": [
    "norm.pdf(4,loc = 1,scale = 2)"
   ]
  },
  {
   "cell_type": "code",
   "execution_count": 30,
   "metadata": {
    "collapsed": false
   },
   "outputs": [
    {
     "data": {
      "text/plain": [
       "(1813, 1)"
      ]
     },
     "execution_count": 30,
     "metadata": {},
     "output_type": "execute_result"
    }
   ],
   "source": [
    "MLE_std_pos.shape"
   ]
  },
  {
   "cell_type": "code",
   "execution_count": 16,
   "metadata": {
    "collapsed": false
   },
   "outputs": [
    {
     "data": {
      "text/plain": [
       "(array([1813, 1814, 1815, ..., 2997, 2998, 2999], dtype=int64),\n",
       " array([0, 0, 0, ..., 0, 0, 0], dtype=int64))"
      ]
     },
     "execution_count": 16,
     "metadata": {},
     "output_type": "execute_result"
    }
   ],
   "source": [
    "np.where(train_y==0)"
   ]
  },
  {
   "cell_type": "code",
   "execution_count": 18,
   "metadata": {
    "collapsed": false
   },
   "outputs": [
    {
     "data": {
      "text/plain": [
       "(1187, 57)"
      ]
     },
     "execution_count": 18,
     "metadata": {},
     "output_type": "execute_result"
    }
   ],
   "source": [
    "X_neg.shape"
   ]
  },
  {
   "cell_type": "code",
   "execution_count": 19,
   "metadata": {
    "collapsed": false
   },
   "outputs": [
    {
     "data": {
      "text/plain": [
       "(1813, 57)"
      ]
     },
     "execution_count": 19,
     "metadata": {},
     "output_type": "execute_result"
    }
   ],
   "source": [
    "X_pos.shape"
   ]
  },
  {
   "cell_type": "code",
   "execution_count": 8,
   "metadata": {
    "collapsed": false
   },
   "outputs": [
    {
     "data": {
      "text/plain": [
       "(3000, 57)"
      ]
     },
     "execution_count": 8,
     "metadata": {},
     "output_type": "execute_result"
    }
   ],
   "source": [
    "train_x.shape"
   ]
  }
 ],
 "metadata": {
  "kernelspec": {
   "display_name": "Python 3",
   "language": "python",
   "name": "python3"
  },
  "language_info": {
   "codemirror_mode": {
    "name": "ipython",
    "version": 3
   },
   "file_extension": ".py",
   "mimetype": "text/x-python",
   "name": "python",
   "nbconvert_exporter": "python",
   "pygments_lexer": "ipython3",
   "version": "3.5.2"
  }
 },
 "nbformat": 4,
 "nbformat_minor": 2
}
