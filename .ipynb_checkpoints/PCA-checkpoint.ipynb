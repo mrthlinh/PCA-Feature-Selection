{
 "cells": [
  {
   "cell_type": "code",
   "execution_count": 46,
   "metadata": {
    "collapsed": false
   },
   "outputs": [],
   "source": [
    "from cvxopt import matrix\n",
    "from cvxopt import solvers\n",
    "def SVM_primal(input,c):\n",
    "    # Load input\n",
    "    row_length,col_length = input.shape\n",
    "    row_training  = row_length\n",
    "\n",
    "    # Initialize training\n",
    "    train_x = input[:,0:col_length-1]\n",
    "    train_x = np.concatenate((train_x,np.ones((row_training,1))),axis = 1)#Add ones column as bias\n",
    "    train_y = input[:,col_length-1:col_length]\n",
    "    feature_num = train_x.shape[1] #11\n",
    "\n",
    "    P = np.eye(feature_num-1)\n",
    "    P = np.concatenate((P,np.zeros((feature_num-1,row_training+1))),axis = 1)\n",
    "    P = np.concatenate((P,np.zeros((row_training+1,row_training+feature_num))),axis = 0) #347 x 347\n",
    "\n",
    "    q = c * np.concatenate((np.zeros((1,feature_num)),train_y.T),axis=1)\n",
    "\n",
    "    h = np.concatenate((-np.ones((row_training,1)),np.zeros((row_training,1))),axis=0)\n",
    "\n",
    "    x = np.concatenate((train_x,np.zeros((row_training,feature_num))),axis=0) #336 x 347\n",
    "    eye = np.eye(row_training) # 336 x 336\n",
    "    eye = np.vstack((eye,eye)) #Add ones column as bias -> already added above\n",
    "    x = np.concatenate((x,eye),axis=1) #672 x 347\n",
    "    y = np.concatenate((train_y,train_y),axis=0)\n",
    "    G = -y * x\n",
    "\n",
    "    # Quadprop for Primal\n",
    "\n",
    "    # Define QP parameters (directly)\n",
    "    P_ = matrix(P)\n",
    "    q_ = matrix(q.T)\n",
    "    G_ = matrix(G)\n",
    "    h_ = matrix(h)\n",
    "\n",
    "    # Construct the QP, invoke solver\n",
    "    sol = solvers.qp(P_,q_,G_,h_)\n",
    "\n",
    "    # Get weight and b\n",
    "    train_w = np.array(sol['x'])\n",
    "    train_w = train_w[0:feature_num]\n",
    "#     f = np.dot(train_x,train_w)\n",
    "#     f[f < 0] = -1\n",
    "#     f[f > 0] =  1 \n",
    "\n",
    "#     #print training accurary\n",
    "#     print (\"Accuracy: \"+str(100*np.count_nonzero(train_y*f+1)/row_training))\n",
    "    return train_w\n",
    "\n",
    "# def load_data(filename):\n",
    "#     input = np.loadtxt(filename, delimiter=',')\n",
    "#     row_length,col_length = input.shape\n",
    "\n",
    "#     # Initialize training\n",
    "#     train_x = input[:,0:col_length-1]\n",
    "#     train_x = np.concatenate((train_x,np.ones((row_length,1))),axis = 1)#Add ones column as bias\n",
    "#     train_y = input[:,col_length-1:col_length]\n",
    "#     return [train_x,train_y]\n",
    "\n",
    "def testing(input,w):\n",
    "    row_length,col_length = input.shape\n",
    "    train_x = input[:,0:col_length-1]\n",
    "    train_x = np.concatenate((train_x,np.ones((row_length,1))),axis = 1)#Add ones column as bias\n",
    "    train_y = input[:,col_length-1:col_length]\n",
    "\n",
    "    f = np.dot(train_x,w)\n",
    "    f[f < 0] = -1\n",
    "    f[f > 0] =  1 \n",
    "    accuracy = 100*np.count_nonzero(train_y*f+1)/row_length\n",
    "    return accuracy"
   ]
  },
  {
   "cell_type": "code",
   "execution_count": 21,
   "metadata": {
    "collapsed": true
   },
   "outputs": [],
   "source": [
    "x,y = load_data(filename)"
   ]
  },
  {
   "cell_type": "code",
   "execution_count": 22,
   "metadata": {
    "collapsed": false
   },
   "outputs": [
    {
     "data": {
      "text/plain": [
       "(3000, 58)"
      ]
     },
     "execution_count": 22,
     "metadata": {},
     "output_type": "execute_result"
    }
   ],
   "source": [
    "x.shape"
   ]
  },
  {
   "cell_type": "code",
   "execution_count": 24,
   "metadata": {
    "collapsed": false
   },
   "outputs": [
    {
     "data": {
      "text/plain": [
       "array([ 1.,  1.,  1., ...,  0.,  0.,  0.])"
      ]
     },
     "execution_count": 24,
     "metadata": {},
     "output_type": "execute_result"
    }
   ],
   "source": [
    "y"
   ]
  },
  {
   "cell_type": "code",
   "execution_count": 19,
   "metadata": {
    "collapsed": false
   },
   "outputs": [
    {
     "name": "stdout",
     "output_type": "stream",
     "text": [
      "Top 6 eigen values:  [  1.52029434e+09   1.28884476e+08   3.44289156e+06   1.68285514e+04\n",
      "   1.16228317e+04   8.97974605e+03]\n"
     ]
    }
   ],
   "source": [
    "import numpy as np\n",
    "# Read data\n",
    "filename = \"spam_train.data\"\n",
    "data = np.loadtxt(filename,delimiter=',')\n",
    "# Define input and output\n",
    "num_data = data.shape[0]\n",
    "num_feature = data.shape[1]-1\n",
    "X = data[:,0:num_feature]\n",
    "Y = data[:,num_feature]\n",
    "# Construct matrix W - sample covariance matrix \n",
    "X_mean = np.mean(X,axis=0)\n",
    "X_mean = np.reshape(X_mean,(57,1))\n",
    "W = X - np.dot(np.ones((num_data,1)),X_mean.T)\n",
    "# Find SVD of W - covariance matrix\n",
    "U, s, V = np.linalg.svd(W, full_matrices=True)\n",
    "# eigen vectors and eigen value of covariance matrix \n",
    "eigen_vec = U\n",
    "# s = np.reshape(s,(s.shape[0],1))\n",
    "# eigen_value = np.dot(s,s.T)\n",
    "eigen_value = s * s\n",
    "# Top 6 eigen value\n",
    "print(\"Top 6 eigen values: \",eigen_value[:6])"
   ]
  },
  {
   "cell_type": "code",
   "execution_count": 45,
   "metadata": {
    "collapsed": false
   },
   "outputs": [
    {
     "name": "stdout",
     "output_type": "stream",
     "text": [
      "     pcost       dcost       gap    pres   dres\n",
      " 0: -1.7588e+05  8.2234e+05  6e+06  5e+01  2e+02\n",
      " 1:  5.7988e+05 -5.9577e+05  2e+06  9e+00  4e+01\n",
      " 2:  2.8177e+05 -1.1339e+04  3e+05  5e-01  2e+00\n",
      " 3:  2.8629e+04  1.1052e+04  2e+04  3e-02  1e-01\n",
      " 4:  2.4028e+04  1.4129e+04  1e+04  1e-02  5e-02\n",
      " 5:  2.0475e+04  1.6050e+04  5e+03  5e-03  2e-02\n",
      " 6:  1.9425e+04  1.6720e+04  3e+03  2e-03  1e-02\n",
      " 7:  1.8622e+04  1.7223e+04  1e+03  1e-03  5e-03\n",
      " 8:  1.8129e+04  1.7543e+04  6e+02  4e-04  2e-03\n",
      " 9:  1.7956e+04  1.7659e+04  3e+02  2e-04  7e-04\n",
      "10:  1.7862e+04  1.7723e+04  1e+02  4e-05  2e-04\n",
      "11:  1.7802e+04  1.7769e+04  3e+01  3e-06  1e-05\n",
      "12:  1.7787e+04  1.7783e+04  5e+00  3e-07  1e-06\n",
      "13:  1.7786e+04  1.7785e+04  1e+00  6e-08  3e-07\n",
      "14:  1.7785e+04  1.7785e+04  1e-01  5e-09  2e-08\n",
      "15:  1.7785e+04  1.7785e+04  2e-03  7e-11  3e-10\n",
      "Optimal solution found.\n"
     ]
    }
   ],
   "source": [
    "# PCA and SVM\n",
    "# six eigen vector\n",
    "V_r = V[:,0:5]\n",
    "X_r = np.dot(X,V_r)\n",
    "Y = np.reshape(Y,(Y.shape[0],1))\n",
    "Y[Y==0] = -1\n",
    "SVM_data = np.concatenate((X_r,Y),axis=1) #672 x 347\n",
    "c= 10\n",
    "SVM_w = SVM_primal(SVM_data,c)"
   ]
  },
  {
   "cell_type": "code",
   "execution_count": 54,
   "metadata": {
    "collapsed": false
   },
   "outputs": [
    {
     "data": {
      "text/plain": [
       "(3000, 6)"
      ]
     },
     "execution_count": 54,
     "metadata": {},
     "output_type": "execute_result"
    }
   ],
   "source": [
    "SVM_data.shape"
   ]
  },
  {
   "cell_type": "code",
   "execution_count": null,
   "metadata": {
    "collapsed": true
   },
   "outputs": [],
   "source": [
    "X_"
   ]
  },
  {
   "cell_type": "code",
   "execution_count": 49,
   "metadata": {
    "collapsed": false
   },
   "outputs": [
    {
     "data": {
      "text/plain": [
       "(3000, 6)"
      ]
     },
     "execution_count": 49,
     "metadata": {},
     "output_type": "execute_result"
    }
   ],
   "source": [
    "SVM_data.shape"
   ]
  },
  {
   "cell_type": "code",
   "execution_count": 53,
   "metadata": {
    "collapsed": false
   },
   "outputs": [
    {
     "data": {
      "text/plain": [
       "(6, 1)"
      ]
     },
     "execution_count": 53,
     "metadata": {},
     "output_type": "execute_result"
    }
   ],
   "source": [
    "SVM_w.shape"
   ]
  },
  {
   "cell_type": "code",
   "execution_count": 50,
   "metadata": {
    "collapsed": false
   },
   "outputs": [
    {
     "data": {
      "text/plain": [
       "(3000, 5)"
      ]
     },
     "execution_count": 50,
     "metadata": {},
     "output_type": "execute_result"
    }
   ],
   "source": [
    "X_r.shape"
   ]
  },
  {
   "cell_type": "code",
   "execution_count": 65,
   "metadata": {
    "collapsed": true
   },
   "outputs": [],
   "source": [
    "# def load_data(filename):\n",
    "#     input = np.loadtxt(filename, delimiter=',')\n",
    "#     row_length,col_length = input.shape\n",
    "\n",
    "#     # Initialize training\n",
    "#     train_x = input[:,0:col_length-1]\n",
    "#     train_x = np.concatenate((train_x,np.ones((row_length,1))),axis = 1)#Add ones column as bias\n",
    "#     train_y = input[:,col_length-1:col_length]\n",
    "#     return [train_x,train_y]\n",
    "\n",
    "def testing(input,w):\n",
    "    row_length,col_length = input.shape\n",
    "    train_x = input[:,0:col_length-1]\n",
    "    train_x = np.concatenate((train_x,np.ones((row_length,1))),axis = 1)#Add ones column as bias\n",
    "    train_y = input[:,col_length-1:col_length]\n",
    "\n",
    "    f = np.dot(train_x,w)\n",
    "    f[f < 0] = -1\n",
    "    f[f > 0] =  1 \n",
    "    accuracy = 100*np.count_nonzero(train_y*f+1)/row_length\n",
    "    return accuracy"
   ]
  },
  {
   "cell_type": "code",
   "execution_count": 66,
   "metadata": {
    "collapsed": false
   },
   "outputs": [
    {
     "data": {
      "text/plain": [
       "75.96666666666667"
      ]
     },
     "execution_count": 66,
     "metadata": {},
     "output_type": "execute_result"
    }
   ],
   "source": [
    "testing(SVM_data,SVM_w)"
   ]
  },
  {
   "cell_type": "code",
   "execution_count": 85,
   "metadata": {
    "collapsed": false
   },
   "outputs": [
    {
     "data": {
      "text/plain": [
       "(3000, 6)"
      ]
     },
     "execution_count": 85,
     "metadata": {},
     "output_type": "execute_result"
    }
   ],
   "source": [
    "SVM_data.shape"
   ]
  },
  {
   "cell_type": "code",
   "execution_count": 78,
   "metadata": {
    "collapsed": false
   },
   "outputs": [
    {
     "data": {
      "text/plain": [
       "(57, 5)"
      ]
     },
     "execution_count": 78,
     "metadata": {},
     "output_type": "execute_result"
    }
   ],
   "source": [
    "V_r.shape"
   ]
  },
  {
   "cell_type": "code",
   "execution_count": 80,
   "metadata": {
    "collapsed": false
   },
   "outputs": [
    {
     "data": {
      "text/plain": [
       "(3000, 5)"
      ]
     },
     "execution_count": 80,
     "metadata": {},
     "output_type": "execute_result"
    }
   ],
   "source": [
    "X_r.shape"
   ]
  },
  {
   "cell_type": "code",
   "execution_count": 82,
   "metadata": {
    "collapsed": false
   },
   "outputs": [
    {
     "data": {
      "text/plain": [
       "(3000,)"
      ]
     },
     "execution_count": 82,
     "metadata": {},
     "output_type": "execute_result"
    }
   ],
   "source": [
    "Y.shape"
   ]
  },
  {
   "cell_type": "code",
   "execution_count": 75,
   "metadata": {
    "collapsed": false
   },
   "outputs": [
    {
     "data": {
      "text/plain": [
       "array([  1.52029434e+09,   1.28884476e+08,   3.44289156e+06,\n",
       "         1.68285514e+04,   1.16228317e+04,   8.97974605e+03,\n",
       "         6.89119741e+03,   4.11102502e+03,   3.75704648e+03,\n",
       "         2.68447775e+03,   2.13332077e+03,   1.95509036e+03,\n",
       "         1.84896221e+03,   1.49062006e+03,   1.38594933e+03,\n",
       "         1.30921298e+03,   1.20780269e+03,   1.14905870e+03,\n",
       "         1.04996960e+03,   1.00161624e+03,   7.72606968e+02,\n",
       "         7.67821066e+02,   7.46044819e+02,   7.04248719e+02,\n",
       "         6.50309718e+02,   6.18684770e+02,   5.95487129e+02,\n",
       "         5.76124688e+02,   5.62100705e+02,   5.15631780e+02,\n",
       "         4.93358391e+02,   4.82198731e+02,   4.55469223e+02,\n",
       "         3.67561267e+02,   3.19676710e+02,   3.11050408e+02,\n",
       "         2.69560342e+02,   2.58380155e+02,   2.17352469e+02,\n",
       "         2.02136876e+02,   1.94848246e+02,   1.89905594e+02,\n",
       "         1.81207066e+02,   1.60604402e+02,   1.34111546e+02,\n",
       "         1.23954016e+02,   1.08429657e+02,   1.00033928e+02,\n",
       "         9.12203473e+01,   7.32325363e+01,   5.21431511e+01,\n",
       "         3.76142499e+01,   3.00767257e+01,   9.93035768e+00,\n",
       "         9.05629185e+00,   7.48417026e+00,   1.82713287e+00])"
      ]
     },
     "execution_count": 75,
     "metadata": {},
     "output_type": "execute_result"
    }
   ],
   "source": [
    "eigen_value"
   ]
  },
  {
   "cell_type": "code",
   "execution_count": 74,
   "metadata": {
    "collapsed": false
   },
   "outputs": [
    {
     "data": {
      "text/plain": [
       "array([  1.52029434e+09,   1.28884476e+08,   3.44289156e+06,\n",
       "         1.68285514e+04,   1.16228317e+04,   8.97974605e+03])"
      ]
     },
     "execution_count": 74,
     "metadata": {},
     "output_type": "execute_result"
    }
   ],
   "source": [
    "eigen_value[:6]"
   ]
  },
  {
   "cell_type": "code",
   "execution_count": 66,
   "metadata": {
    "collapsed": false
   },
   "outputs": [
    {
     "data": {
      "text/plain": [
       "(3000, 57)"
      ]
     },
     "execution_count": 66,
     "metadata": {},
     "output_type": "execute_result"
    }
   ],
   "source": [
    "W.shape"
   ]
  },
  {
   "cell_type": "code",
   "execution_count": 65,
   "metadata": {
    "collapsed": false
   },
   "outputs": [
    {
     "data": {
      "text/plain": [
       "(57, 1)"
      ]
     },
     "execution_count": 65,
     "metadata": {},
     "output_type": "execute_result"
    }
   ],
   "source": [
    "s.shape"
   ]
  },
  {
   "cell_type": "code",
   "execution_count": 70,
   "metadata": {
    "collapsed": false
   },
   "outputs": [
    {
     "data": {
      "text/plain": [
       "(57, 57)"
      ]
     },
     "execution_count": 70,
     "metadata": {},
     "output_type": "execute_result"
    }
   ],
   "source": [
    "eigen_value.shape"
   ]
  },
  {
   "cell_type": "code",
   "execution_count": 59,
   "metadata": {
    "collapsed": false
   },
   "outputs": [
    {
     "data": {
      "text/plain": [
       "(3000, 3000)"
      ]
     },
     "execution_count": 59,
     "metadata": {},
     "output_type": "execute_result"
    }
   ],
   "source": [
    "U.shape"
   ]
  },
  {
   "cell_type": "code",
   "execution_count": 60,
   "metadata": {
    "collapsed": false
   },
   "outputs": [
    {
     "data": {
      "text/plain": [
       "(57,)"
      ]
     },
     "execution_count": 60,
     "metadata": {},
     "output_type": "execute_result"
    }
   ],
   "source": [
    "s.shape"
   ]
  },
  {
   "cell_type": "code",
   "execution_count": 39,
   "metadata": {
    "collapsed": false
   },
   "outputs": [
    {
     "data": {
      "text/plain": [
       "(57, 57)"
      ]
     },
     "execution_count": 39,
     "metadata": {},
     "output_type": "execute_result"
    }
   ],
   "source": [
    "V.shape"
   ]
  },
  {
   "cell_type": "code",
   "execution_count": 34,
   "metadata": {
    "collapsed": false
   },
   "outputs": [
    {
     "data": {
      "text/plain": [
       "(3000, 58)"
      ]
     },
     "execution_count": 34,
     "metadata": {},
     "output_type": "execute_result"
    }
   ],
   "source": [
    "data.shape"
   ]
  },
  {
   "cell_type": "code",
   "execution_count": 32,
   "metadata": {
    "collapsed": false
   },
   "outputs": [
    {
     "data": {
      "text/plain": [
       "(3000,)"
      ]
     },
     "execution_count": 32,
     "metadata": {},
     "output_type": "execute_result"
    }
   ],
   "source": [
    "Y.shape"
   ]
  },
  {
   "cell_type": "code",
   "execution_count": 33,
   "metadata": {
    "collapsed": false
   },
   "outputs": [
    {
     "data": {
      "text/plain": [
       "(3000, 57)"
      ]
     },
     "execution_count": 33,
     "metadata": {},
     "output_type": "execute_result"
    }
   ],
   "source": [
    "X.shape"
   ]
  }
 ],
 "metadata": {
  "kernelspec": {
   "display_name": "Python 3",
   "language": "python",
   "name": "python3"
  },
  "language_info": {
   "codemirror_mode": {
    "name": "ipython",
    "version": 3
   },
   "file_extension": ".py",
   "mimetype": "text/x-python",
   "name": "python",
   "nbconvert_exporter": "python",
   "pygments_lexer": "ipython3",
   "version": "3.5.2"
  }
 },
 "nbformat": 4,
 "nbformat_minor": 2
}
