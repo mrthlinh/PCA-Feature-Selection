{
 "cells": [
  {
   "cell_type": "code",
   "execution_count": 60,
   "metadata": {
    "collapsed": false
   },
   "outputs": [],
   "source": [
    "import numpy as np\n",
    "from cvxopt import matrix\n",
    "from cvxopt import solvers\n",
    "\n",
    "def SVM_primal(input,c):\n",
    "    # Load input\n",
    "    row_length,col_length = input.shape\n",
    "#     row_training  = row_length\n",
    "    row_training  = int(row_length)\n",
    "    # Initialize training\n",
    "    train_x = input[:,0:col_length-1]\n",
    "    \n",
    "    #Add ones column as bias to the end of\n",
    "    train_x = np.concatenate((train_x,np.ones((row_training,1))),axis = 1)\n",
    "    train_y = input[:,col_length-1:col_length]\n",
    "    feature_num = train_x.shape[1] #11\n",
    "    print(feature_num)\n",
    "    \n",
    "    P = np.eye(feature_num-1)\n",
    "    P = np.concatenate((P,np.zeros((feature_num-1,row_training+1))),axis = 1)\n",
    "    P = np.concatenate((P,np.zeros((row_training+1,row_training+feature_num))),axis = 0) #347 x 347\n",
    "\n",
    "    q = c * np.concatenate((np.zeros((1,feature_num)),train_y.T),axis=1)\n",
    "\n",
    "    h = np.concatenate((-np.ones((row_training,1)),np.zeros((row_training,1))),axis=0)\n",
    "\n",
    "    x = np.concatenate((train_x,np.zeros((row_training,feature_num))),axis=0) #336 x 347\n",
    "    eye = np.eye(row_training) # 336 x 336\n",
    "    eye = np.vstack((eye,eye)) #Add ones column as bias -> already added above\n",
    "    x = np.concatenate((x,eye),axis=1) #672 x 347\n",
    "    y = np.concatenate((train_y,train_y),axis=0)\n",
    "    G = -y * x\n",
    "\n",
    "    # Quadprop for Primal\n",
    "\n",
    "    # Define QP parameters (directly)\n",
    "    P_ = matrix(P)\n",
    "    q_ = matrix(q.T)\n",
    "    G_ = matrix(G)\n",
    "    h_ = matrix(h)\n",
    "\n",
    "    # Construct the QP, invoke solver\n",
    "    sol = solvers.qp(P_,q_,G_,h_)\n",
    "\n",
    "    # Get weight and b\n",
    "    train_w = np.array(sol['x'])\n",
    "    train_w = train_w[0:feature_num]\n",
    "    \n",
    "    return train_w\n",
    "\n",
    "\n",
    "def load_data(filename):\n",
    "    input = np.loadtxt(filename, delimiter=',')\n",
    "    row_length,col_length = input.shape\n",
    "\n",
    "    # Initialize training\n",
    "    train_x = input[:,0:col_length-1]\n",
    "    train_y = input[:,col_length-1:col_length]\n",
    "    train_y[train_y == 0] = -1\n",
    "    return [train_x,train_y]\n",
    "\n",
    "def testing(filename,w,V_r):\n",
    "    data = load_data(filename)\n",
    "    train_x = data[0]\n",
    "    train_y = data[1]\n",
    "    \n",
    "    row_length,col_length = train_x.shape\n",
    "\n",
    "    \n",
    "    #Projection of X along given eigenvectors\n",
    "    X_r = np.dot(train_x,V_r) # Projection of X along eigen vectors\n",
    "    Y = np.reshape(train_y,(train_y.shape[0],1))\n",
    "    \n",
    "#     SVM_data = np.concatenate((X_r,Y),axis=1) #672 x 347\n",
    "    num_feature = X_r.shape[1]\n",
    "    print(num_feature)\n",
    "    f = np.dot(X_r,w[0:num_feature]) + w[num_feature]\n",
    "    f[f < 0] = -1\n",
    "    f[f > 0] =  1 \n",
    "    accuracy = 100*np.count_nonzero(Y*f+1)/row_length\n",
    "    return accuracy\n",
    "def PCA(filename,k):\n",
    "    # Read data\n",
    "    data = load_data(filename)\n",
    "    X = data[0]\n",
    "    Y = data[1]\n",
    "    # Define input and output\n",
    "    num_data = X.shape[0]\n",
    "    num_feature = X.shape[1]\n",
    "    # Construct matrix W - sample covariance matrix \n",
    "    X_mean = np.mean(X,axis=0)\n",
    "    X_mean = np.reshape(X_mean,(num_feature,1))\n",
    "    W = X - np.dot(np.ones((num_data,1)),X_mean.T)\n",
    "    # Find SVD of W - covariance matrix\n",
    "    U, s, V = np.linalg.svd(W, full_matrices=True)\n",
    "    # eigen vectors and eigen value of covariance matrix \n",
    "    eigen_vec = U\n",
    "    # s = np.reshape(s,(s.shape[0],1))\n",
    "    # eigen_value = np.dot(s,s.T)\n",
    "    eigen_value = s * s\n",
    "    # Top k eigen value\n",
    "    print(\"Top \",k,\" eigen values: \",eigen_value[:k])\n",
    "    V_r = V[:,:k]\n",
    "    return V_r"
   ]
  },
  {
   "cell_type": "code",
   "execution_count": 46,
   "metadata": {
    "collapsed": true
   },
   "outputs": [],
   "source": [
    "def SVM_primal(input,c):\n",
    "    # Load input\n",
    "    row_length,col_length = input.shape\n",
    "#     row_training  = row_length\n",
    "    row_training  = int(row_length)\n",
    "    # Initialize training\n",
    "#     train_x = input[:,0:col_length-1]\n",
    "    train_x = input[:,0:col_length-1]\n",
    "    \n",
    "    #Add ones column as bias to the end of\n",
    "    train_x = np.concatenate((train_x,np.ones((row_training,1))),axis = 1)\n",
    "    train_y = input[:,col_length-1:col_length]\n",
    "    feature_num = train_x.shape[1] #11\n",
    "    print(train_x.shape)\n",
    "    \n",
    "    P = np.eye(feature_num-1)\n",
    "    P = np.concatenate((P,np.zeros((feature_num-1,row_training+1))),axis = 1)\n",
    "    P = np.concatenate((P,np.zeros((row_training+1,row_training+feature_num))),axis = 0) #347 x 347\n",
    "\n",
    "    q = c * np.concatenate((np.zeros((1,feature_num)),train_y.T),axis=1)\n",
    "\n",
    "    h = np.concatenate((-np.ones((row_training,1)),np.zeros((row_training,1))),axis=0)\n",
    "\n",
    "    x = np.concatenate((train_x,np.zeros((row_training,feature_num))),axis=0) #336 x 347\n",
    "    eye = np.eye(row_training) # 336 x 336\n",
    "    eye = np.vstack((eye,eye)) #Add ones column as bias -> already added above\n",
    "    x = np.concatenate((x,eye),axis=1) #672 x 347\n",
    "    y = np.concatenate((train_y,train_y),axis=0)\n",
    "    G = -y * x\n",
    "\n",
    "    # Quadprop for Primal\n",
    "\n",
    "    # Define QP parameters (directly)\n",
    "    P_ = matrix(P)\n",
    "    q_ = matrix(q.T)\n",
    "    G_ = matrix(G)\n",
    "    h_ = matrix(h)\n",
    "\n",
    "    # Construct the QP, invoke solver\n",
    "    sol = solvers.qp(P_,q_,G_,h_)\n",
    "\n",
    "    # Get weight and b\n",
    "    train_w = np.array(sol['x'])\n",
    "    train_w = train_w[0:feature_num]\n",
    "    \n",
    "    return train_w\n"
   ]
  },
  {
   "cell_type": "code",
   "execution_count": 53,
   "metadata": {
    "collapsed": true
   },
   "outputs": [],
   "source": [
    "def PCA(filename,k):\n",
    "    # Read data\n",
    "    data = load_data(filename)\n",
    "    X = data[0]\n",
    "    Y = data[1]\n",
    "    # Define input and output\n",
    "    num_data = X.shape[0]\n",
    "    num_feature = X.shape[1]\n",
    "    # Construct matrix W - sample covariance matrix \n",
    "    X_mean = np.mean(X,axis=0)\n",
    "    X_mean = np.reshape(X_mean,(num_feature,1))\n",
    "    W = X - np.dot(np.ones((num_data,1)),X_mean.T)\n",
    "    # Find SVD of W - covariance matrix\n",
    "    U, s, V = np.linalg.svd(W, full_matrices=True)\n",
    "    # eigen vectors and eigen value of covariance matrix \n",
    "    eigen_vec = U\n",
    "    # s = np.reshape(s,(s.shape[0],1))\n",
    "    # eigen_value = np.dot(s,s.T)\n",
    "    eigen_value = s * s\n",
    "    # Top k eigen value\n",
    "    print(\"Top \",k,\" eigen values: \",eigen_value[:k])\n",
    "    V_r = V[:,:k]\n",
    "    return V_r"
   ]
  },
  {
   "cell_type": "code",
   "execution_count": 66,
   "metadata": {
    "collapsed": false
   },
   "outputs": [
    {
     "name": "stdout",
     "output_type": "stream",
     "text": [
      "Top  1  eigen values:  [  1.52029434e+09]\n",
      "2\n",
      "     pcost       dcost       gap    pres   dres\n",
      " 0: -2.1033e+02  1.5393e+04  1e+05  7e+00  3e+02\n",
      " 1:  1.0935e+04 -1.2351e+04  3e+04  1e+00  5e+01\n",
      " 2:  7.6272e+03  1.2612e+03  6e+03  5e-02  2e+00\n",
      " 3:  2.9362e+03  2.0034e+03  1e+03  8e-03  3e-01\n",
      " 4:  2.5350e+03  2.3540e+03  2e+02  1e-03  5e-02\n",
      " 5:  2.3762e+03  2.3735e+03  3e+00  1e-05  4e-04\n",
      " 6:  2.3740e+03  2.3740e+03  3e-02  1e-07  4e-06\n",
      " 7:  2.3740e+03  2.3740e+03  3e-04  1e-09  4e-08\n",
      "Optimal solution found.\n",
      "[[  5.20753627e-08]\n",
      " [  9.99999756e-01]]\n",
      "c = 1\n",
      "1\n",
      "Accuracy on training test = 60.43333333333333\n",
      "1\n",
      "Accuracy on test test = 0.0\n",
      "1\n",
      " Accuracy on validation test = 0.0\n",
      "2\n",
      "     pcost       dcost       gap    pres   dres\n",
      " 0: -1.4657e+05  5.7352e+05  3e+06  4e+01  1e+02\n",
      " 1:  4.1887e+05 -2.5107e+05  9e+05  7e+00  2e+01\n",
      " 2:  1.2932e+05  1.4585e+04  1e+05  4e-15  2e-14\n",
      " 3:  3.0033e+04  1.7092e+04  1e+04  1e-15  1e-13\n",
      " 4:  2.8387e+04  2.1940e+04  6e+03  5e-16  1e-13\n",
      " 5:  2.4185e+04  2.3702e+04  5e+02  3e-16  3e-14\n",
      " 6:  2.3745e+04  2.3740e+04  5e+00  3e-16  6e-13\n",
      " 7:  2.3740e+04  2.3740e+04  5e-02  3e-16  3e-13\n",
      " 8:  2.3740e+04  2.3740e+04  5e-04  3e-16  5e-13\n",
      "Optimal solution found.\n",
      "[[  1.37470801e-08]\n",
      " [  9.99999937e-01]]\n",
      "c = 10\n",
      "1\n",
      "Accuracy on training test = 60.43333333333333\n",
      "1\n",
      "Accuracy on test test = 0.0\n",
      "1\n",
      " Accuracy on validation test = 0.0\n",
      "2\n",
      "     pcost       dcost       gap    pres   dres\n",
      " 0: -1.5912e+07  4.8937e+07  3e+08  4e+02  1e+02\n",
      " 1:  3.5692e+07 -1.9158e+07  7e+07  6e+01  2e+01\n",
      " 2:  7.7086e+06  1.3826e+05  8e+06  3e-14  1e-13\n",
      " 3:  3.6304e+05  1.4273e+05  2e+05  9e-15  2e-13\n",
      " 4:  3.1430e+05  2.0362e+05  1e+05  4e-15  1e-13\n",
      " 5:  2.5683e+05  2.3616e+05  2e+04  4e-16  9e-14\n",
      " 6:  2.3765e+05  2.3737e+05  3e+02  3e-16  2e-13\n",
      " 7:  2.3740e+05  2.3740e+05  3e+00  3e-16  2e-13\n",
      " 8:  2.3740e+05  2.3740e+05  3e-02  3e-16  1e-13\n",
      "Optimal solution found.\n",
      "[[  5.14359971e-08]\n",
      " [  9.99999777e-01]]\n",
      "c = 100\n",
      "1\n",
      "Accuracy on training test = 60.43333333333333\n",
      "1\n",
      "Accuracy on test test = 0.0\n",
      "1\n",
      " Accuracy on validation test = 0.0\n",
      "2\n",
      "     pcost       dcost       gap    pres   dres\n",
      " 0: -1.6038e+09  4.8108e+09  3e+10  4e+03  1e+02\n",
      " 1:  3.5095e+09 -1.8590e+09  7e+09  6e+02  2e+01\n",
      " 2:  7.2000e+08  1.3689e+06  7e+08  3e-13  1e-13\n",
      " 3:  1.0061e+07  1.3788e+06  9e+06  9e-14  1e-13\n",
      " 4:  3.0208e+06  1.7036e+06  1e+06  1e-14  1e-13\n",
      " 5:  2.9160e+06  2.1086e+06  8e+05  6e-15  1e-13\n",
      " 6:  2.4774e+06  2.3536e+06  1e+05  9e-16  3e-13\n",
      " 7:  2.3753e+06  2.3737e+06  2e+03  3e-16  3e-13\n",
      " 8:  2.3740e+06  2.3740e+06  2e+01  3e-16  4e-13\n",
      " 9:  2.3740e+06  2.3740e+06  2e-01  3e-16  5e-13\n",
      "Optimal solution found.\n",
      "[[  3.66259493e-08]\n",
      " [  9.99999844e-01]]\n",
      "c = 1000\n",
      "1\n",
      "Accuracy on training test = 60.43333333333333\n",
      "1\n",
      "Accuracy on test test = 0.0\n",
      "1\n",
      " Accuracy on validation test = 0.0\n",
      "Top  2  eigen values:  [  1.52029434e+09   1.28884476e+08]\n",
      "3\n",
      "     pcost       dcost       gap    pres   dres\n",
      " 0: -5.6302e+02  2.0009e+04  2e+05  1e+01  5e+02\n",
      " 1:  1.4615e+04 -2.6200e+04  5e+04  2e+00  9e+01\n",
      " 2:  1.1531e+04 -2.8773e+03  2e+04  3e-01  1e+01\n",
      " 3:  3.2932e+03  1.1860e+03  2e+03  3e-02  1e+00\n",
      " 4:  2.6635e+03  1.4406e+03  1e+03  2e-02  8e-01\n",
      " 5:  2.6469e+03  1.5626e+03  1e+03  7e-03  4e-01\n",
      " 6:  2.0272e+03  1.7972e+03  2e+02  6e-04  3e-02\n",
      " 7:  1.9795e+03  1.8274e+03  2e+02  4e-04  2e-02\n",
      " 8:  1.9432e+03  1.8508e+03  9e+01  2e-04  1e-02\n",
      " 9:  1.9276e+03  1.8610e+03  7e+01  1e-04  6e-03\n",
      "10:  1.9118e+03  1.8716e+03  4e+01  5e-05  3e-03\n",
      "11:  1.9029e+03  1.8781e+03  2e+01  3e-05  1e-03\n",
      "12:  1.8960e+03  1.8832e+03  1e+01  1e-05  6e-04\n",
      "13:  1.8921e+03  1.8861e+03  6e+00  3e-06  2e-04\n",
      "14:  1.8895e+03  1.8883e+03  1e+00  4e-07  2e-05\n",
      "15:  1.8890e+03  1.8888e+03  2e-01  7e-08  4e-06\n",
      "16:  1.8889e+03  1.8889e+03  3e-02  9e-09  5e-07\n",
      "17:  1.8889e+03  1.8889e+03  4e-04  1e-10  6e-09\n",
      "Optimal solution found.\n",
      "[[-0.36847189]\n",
      " [-1.34578564]\n",
      " [-0.34934279]]\n",
      "c = 1\n",
      "2\n",
      "Accuracy on training test = 76.16666666666667\n",
      "2\n",
      "Accuracy on test test = 36.45443196004994\n",
      "2\n",
      " Accuracy on validation test = 66.375\n",
      "3\n",
      "     pcost       dcost       gap    pres   dres\n",
      " 0: -1.6597e+05  8.4487e+05  6e+06  5e+01  2e+02\n",
      " 1:  5.9844e+05 -6.7929e+05  2e+06  1e+01  5e+01\n",
      " 2:  3.4617e+05 -3.1983e+04  4e+05  9e-01  4e+00\n",
      " 3:  4.8024e+04  1.1062e+04  4e+04  7e-02  3e-01\n",
      " 4:  2.2021e+04  1.4708e+04  8e+03  1e-02  6e-02\n",
      " 5:  2.1644e+04  1.6872e+04  5e+03  5e-03  2e-02\n",
      " 6:  2.0595e+04  1.7636e+04  3e+03  2e-03  1e-02\n",
      " 7:  1.9717e+04  1.8258e+04  1e+03  1e-03  4e-03\n",
      " 8:  1.9375e+04  1.8508e+04  9e+02  4e-04  2e-03\n",
      " 9:  1.9127e+04  1.8690e+04  4e+02  2e-04  8e-04\n",
      "10:  1.9032e+04  1.8761e+04  3e+02  1e-04  4e-04\n",
      "11:  1.8961e+04  1.8816e+04  1e+02  5e-05  2e-04\n",
      "12:  1.8900e+04  1.8861e+04  4e+01  2e-06  8e-06\n",
      "13:  1.8886e+04  1.8874e+04  1e+01  4e-07  2e-06\n",
      "14:  1.8881e+04  1.8879e+04  2e+00  5e-08  2e-07\n",
      "15:  1.8880e+04  1.8879e+04  1e+00  1e-08  6e-08\n",
      "16:  1.8880e+04  1.8880e+04  9e-02  1e-09  5e-09\n",
      "17:  1.8880e+04  1.8880e+04  1e-03  2e-11  8e-11\n",
      "Optimal solution found.\n",
      "[[-0.36858466]\n",
      " [-1.34611772]\n",
      " [-0.34915662]]\n",
      "c = 10\n",
      "2\n",
      "Accuracy on training test = 76.16666666666667\n",
      "2\n",
      "Accuracy on test test = 36.45443196004994\n",
      "2\n",
      " Accuracy on validation test = 66.375\n",
      "3\n",
      "     pcost       dcost       gap    pres   dres\n",
      " 0: -1.7694e+07  7.4012e+07  5e+08  5e+02  2e+02\n",
      " 1:  5.1950e+07 -5.3954e+07  1e+08  9e+01  4e+01\n",
      " 2:  2.6753e+07 -2.1130e+06  3e+07  6e+00  2e+00\n",
      " 3:  1.6708e+06  1.0225e+05  2e+06  2e-01  1e-01\n",
      " 4:  2.5956e+05  1.1924e+05  1e+05  2e-02  9e-03\n",
      " 5:  2.3678e+05  1.4663e+05  9e+04  1e-02  5e-03\n",
      " 6:  2.3311e+05  1.6514e+05  7e+04  4e-03  2e-03\n",
      " 7:  2.0678e+05  1.7806e+05  3e+04  2e-03  7e-04\n",
      " 8:  1.9871e+05  1.8255e+05  2e+04  7e-04  3e-04\n",
      " 9:  1.9438e+05  1.8510e+05  9e+03  3e-04  1e-04\n",
      "10:  1.9156e+05  1.8688e+05  5e+03  1e-04  6e-05\n",
      "11:  1.9024e+05  1.8775e+05  3e+03  6e-05  3e-05\n",
      "12:  1.8939e+05  1.8834e+05  1e+03  2e-05  1e-05\n",
      "13:  1.8919e+05  1.8847e+05  7e+02  1e-05  5e-06\n",
      "14:  1.8896e+05  1.8864e+05  3e+02  1e-06  5e-07\n",
      "15:  1.8882e+05  1.8876e+05  6e+01  2e-07  7e-08\n",
      "16:  1.8879e+05  1.8879e+05  6e+00  6e-16  3e-13\n",
      "17:  1.8879e+05  1.8879e+05  4e-01  6e-16  3e-12\n",
      "18:  1.8879e+05  1.8879e+05  6e-02  5e-16  6e-11\n",
      "Optimal solution found.\n",
      "[[-0.37018729]\n",
      " [-1.35177478]\n",
      " [-0.35355334]]\n",
      "c = 100\n",
      "2\n",
      "Accuracy on training test = 76.1\n",
      "2\n",
      "Accuracy on test test = 37.07865168539326\n",
      "2\n",
      " Accuracy on validation test = 66.375\n",
      "3\n",
      "     pcost       dcost       gap    pres   dres\n",
      " 0: -1.7803e+09  7.2976e+09  5e+10  5e+03  2e+02\n",
      " 1:  5.1179e+09 -5.2613e+09  1e+10  9e+02  4e+01\n",
      " 2:  2.5950e+09 -2.0106e+08  3e+09  5e+01  2e+00\n",
      " 3:  1.3829e+08  5.8490e+05  1e+08  2e+00  9e-02\n",
      " 4:  3.9484e+06  1.0939e+06  3e+06  4e-02  2e-03\n",
      " 5:  2.1689e+06  1.5261e+06  7e+05  8e-03  3e-04\n",
      " 6:  2.1345e+06  1.6643e+06  5e+05  4e-03  2e-04\n",
      " 7:  2.0222e+06  1.7682e+06  3e+05  2e-03  8e-05\n",
      " 8:  1.9700e+06  1.8164e+06  2e+05  9e-04  4e-05\n",
      " 9:  1.9369e+06  1.8454e+06  9e+04  5e-04  2e-05\n",
      "10:  1.9217e+06  1.8589e+06  6e+04  3e-04  1e-05\n",
      "11:  1.9068e+06  1.8716e+06  4e+04  1e-04  6e-06\n",
      "12:  1.8980e+06  1.8791e+06  2e+04  6e-05  3e-06\n",
      "13:  1.8939e+06  1.8826e+06  1e+04  2e-05  1e-06\n",
      "14:  1.8905e+06  1.8854e+06  5e+03  5e-16  7e-14\n",
      "15:  1.8882e+06  1.8876e+06  7e+02  5e-16  3e-13\n",
      "16:  1.8880e+06  1.8878e+06  2e+02  6e-16  5e-14\n",
      "17:  1.8879e+06  1.8879e+06  1e+01  6e-16  1e-12\n",
      "18:  1.8879e+06  1.8879e+06  4e+00  5e-16  6e-11\n",
      "19:  1.8879e+06  1.8879e+06  7e-02  5e-16  4e-13\n",
      "Optimal solution found.\n",
      "[[-0.37018865]\n",
      " [-1.35177947]\n",
      " [-0.35355365]]\n",
      "c = 1000\n",
      "2\n",
      "Accuracy on training test = 76.1\n",
      "2\n",
      "Accuracy on test test = 37.07865168539326\n",
      "2\n",
      " Accuracy on validation test = 66.375\n",
      "Top  3  eigen values:  [  1.52029434e+09   1.28884476e+08   3.44289156e+06]\n",
      "4\n",
      "     pcost       dcost       gap    pres   dres\n",
      " 0: -6.7519e+02  2.0280e+04  3e+05  1e+01  5e+02\n",
      " 1:  1.4814e+04 -2.7097e+04  5e+04  2e+00  9e+01\n",
      " 2:  1.1306e+04 -2.1590e+03  1e+04  2e-01  1e+01\n",
      " 3:  3.1309e+03  1.1590e+03  2e+03  3e-02  1e+00\n",
      " 4:  2.4654e+03  1.4305e+03  1e+03  1e-02  7e-01\n",
      " 5:  2.4413e+03  1.5393e+03  9e+02  6e-03  3e-01\n",
      " 6:  1.9817e+03  1.7189e+03  3e+02  1e-03  6e-02\n",
      " 7:  1.8859e+03  1.7731e+03  1e+02  4e-04  2e-02\n",
      " 8:  1.8577e+03  1.7899e+03  7e+01  2e-04  1e-02\n",
      " 9:  1.8355e+03  1.8042e+03  3e+01  8e-05  4e-03\n",
      "10:  1.8291e+03  1.8083e+03  2e+01  5e-05  3e-03\n",
      "11:  1.8222e+03  1.8130e+03  9e+00  2e-05  1e-03\n",
      "12:  1.8187e+03  1.8152e+03  4e+00  5e-16  2e-13\n",
      "13:  1.8172e+03  1.8167e+03  5e-01  6e-16  6e-14\n",
      "14:  1.8170e+03  1.8169e+03  2e-01  5e-16  7e-12\n",
      "15:  1.8170e+03  1.8169e+03  2e-02  6e-16  2e-12\n",
      "16:  1.8169e+03  1.8169e+03  4e-04  5e-16  5e-12\n",
      "Optimal solution found.\n",
      "[[-0.34010138]\n",
      " [-1.43540448]\n",
      " [ 0.61446203]\n",
      " [-0.94913967]]\n",
      "c = 1\n",
      "3\n",
      "Accuracy on training test = 75.53333333333333\n",
      "3\n",
      "Accuracy on test test = 54.43196004993758\n",
      "3\n",
      " Accuracy on validation test = 73.625\n",
      "4\n",
      "     pcost       dcost       gap    pres   dres\n",
      " 0: -1.7214e+05  8.6534e+05  7e+06  5e+01  3e+02\n",
      " 1:  6.1890e+05 -6.7799e+05  2e+06  1e+01  4e+01\n",
      " 2:  3.2209e+05 -1.5626e+04  3e+05  5e-01  3e+00\n",
      " 3:  2.9423e+04  1.1176e+04  2e+04  2e-02  1e-01\n",
      " 4:  2.2022e+04  1.5480e+04  7e+03  6e-03  3e-02\n",
      " 5:  2.0641e+04  1.6497e+04  4e+03  3e-03  2e-02\n",
      " 6:  1.9301e+04  1.7344e+04  2e+03  1e-03  7e-03\n",
      " 7:  1.8755e+04  1.7723e+04  1e+03  7e-04  3e-03\n",
      " 8:  1.8461e+04  1.7931e+04  5e+02  3e-04  1e-03\n",
      " 9:  1.8333e+04  1.8024e+04  3e+02  2e-04  7e-04\n",
      "10:  1.8277e+04  1.8066e+04  2e+02  1e-04  4e-04\n",
      "11:  1.8214e+04  1.8113e+04  1e+02  4e-05  2e-04\n",
      "12:  1.8181e+04  1.8136e+04  5e+01  6e-16  2e-13\n",
      "13:  1.8166e+04  1.8150e+04  2e+01  5e-16  4e-13\n",
      "14:  1.8160e+04  1.8155e+04  5e+00  5e-16  8e-13\n",
      "15:  1.8158e+04  1.8157e+04  9e-01  5e-16  2e-12\n",
      "16:  1.8158e+04  1.8158e+04  3e-02  5e-16  6e-13\n",
      "17:  1.8158e+04  1.8158e+04  3e-04  6e-16  7e-13\n",
      "Optimal solution found.\n",
      "[[-0.34513111]\n",
      " [-1.44680959]\n",
      " [ 0.61950062]\n",
      " [-0.95527023]]\n",
      "c = 10\n",
      "3\n",
      "Accuracy on training test = 75.53333333333333\n",
      "3\n",
      "Accuracy on test test = 54.30711610486891\n",
      "3\n",
      " Accuracy on validation test = 73.75\n",
      "4\n",
      "     pcost       dcost       gap    pres   dres\n",
      " 0: -1.8261e+07  7.5943e+07  5e+08  5e+02  2e+02\n",
      " 1:  5.4116e+07 -5.3114e+07  1e+08  9e+01  4e+01\n",
      " 2:  2.3899e+07 -6.3892e+05  2e+07  2e+00  9e-01\n",
      " 3:  5.3001e+05  1.0577e+05  4e+05  3e-02  1e-02\n",
      " 4:  2.2285e+05  1.3462e+05  9e+04  6e-03  3e-03\n",
      " 5:  2.0339e+05  1.6206e+05  4e+04  2e-03  9e-04\n",
      " 6:  1.9289e+05  1.7154e+05  2e+04  9e-04  4e-04\n",
      " 7:  1.8731e+05  1.7650e+05  1e+04  4e-04  2e-04\n",
      " 8:  1.8436e+05  1.7912e+05  5e+03  2e-04  7e-05\n",
      " 9:  1.8318e+05  1.8015e+05  3e+03  9e-05  4e-05\n",
      "10:  1.8263e+05  1.8062e+05  2e+03  5e-05  2e-05\n",
      "11:  1.8209e+05  1.8110e+05  1e+03  2e-05  1e-05\n",
      "12:  1.8176e+05  1.8138e+05  4e+02  5e-16  4e-14\n",
      "13:  1.8160e+05  1.8153e+05  6e+01  5e-16  6e-13\n",
      "14:  1.8157e+05  1.8156e+05  1e+01  5e-16  9e-13\n",
      "15:  1.8157e+05  1.8157e+05  1e+00  6e-16  3e-13\n",
      "16:  1.8157e+05  1.8157e+05  1e-02  5e-16  1e-13\n",
      "Optimal solution found.\n",
      "[[-0.34513113]\n",
      " [-1.44680959]\n",
      " [ 0.61950059]\n",
      " [-0.95527017]]\n",
      "c = 100\n",
      "3\n",
      "Accuracy on training test = 75.53333333333333\n",
      "3\n",
      "Accuracy on test test = 54.30711610486891\n",
      "3\n",
      " Accuracy on validation test = 73.75\n",
      "4\n",
      "     pcost       dcost       gap    pres   dres\n",
      " 0: -1.8365e+09  7.4894e+09  5e+10  5e+03  2e+02\n",
      " 1:  5.3182e+09 -5.2163e+09  1e+10  8e+02  4e+01\n",
      " 2:  2.3256e+09 -6.3016e+07  2e+09  2e+01  7e-01\n",
      " 3:  3.1207e+07  1.0402e+06  3e+07  2e-01  8e-03\n",
      " 4:  2.8064e+06  1.1039e+06  2e+06  1e-02  5e-04\n",
      " 5:  2.3209e+06  1.4809e+06  8e+05  4e-03  2e-04\n",
      " 6:  2.1205e+06  1.6308e+06  5e+05  2e-03  8e-05\n",
      " 7:  1.9466e+06  1.7289e+06  2e+05  7e-04  3e-05\n",
      " 8:  1.8813e+06  1.7706e+06  1e+05  3e-04  1e-05\n",
      " 9:  1.8479e+06  1.7928e+06  6e+04  1e-04  6e-06\n",
      "10:  1.8335e+06  1.8027e+06  3e+04  7e-05  3e-06\n",
      "11:  1.8270e+06  1.8072e+06  2e+04  4e-05  2e-06\n",
      "12:  1.8211e+06  1.8115e+06  1e+04  2e-05  7e-07\n",
      "13:  1.8172e+06  1.8141e+06  3e+03  5e-16  2e-13\n",
      "14:  1.8161e+06  1.8152e+06  9e+02  6e-16  3e-13\n",
      "15:  1.8158e+06  1.8155e+06  2e+02  5e-16  2e-12\n",
      "16:  1.8157e+06  1.8156e+06  2e+01  6e-16  3e-13\n",
      "17:  1.8157e+06  1.8157e+06  2e-01  7e-16  5e-13\n",
      "Optimal solution found.\n",
      "[[-0.34513116]\n",
      " [-1.44680966]\n",
      " [ 0.61950063]\n",
      " [-0.95527014]]\n",
      "c = 1000\n",
      "3\n",
      "Accuracy on training test = 75.53333333333333\n",
      "3\n",
      "Accuracy on test test = 54.30711610486891\n",
      "3\n",
      " Accuracy on validation test = 73.75\n",
      "Top  4  eigen values:  [  1.52029434e+09   1.28884476e+08   3.44289156e+06   1.68285514e+04]\n",
      "5\n",
      "     pcost       dcost       gap    pres   dres\n",
      " 0: -7.3946e+02  1.9128e+04  2e+05  9e+00  5e+02\n",
      " 1:  1.3827e+04 -2.3355e+04  5e+04  2e+00  8e+01\n",
      " 2:  1.0139e+04 -1.4923e+03  1e+04  2e-01  1e+01\n",
      " 3:  2.5510e+03  1.2235e+03  1e+03  2e-02  9e-01\n",
      " 4:  2.1643e+03  1.5168e+03  7e+02  7e-03  4e-01\n",
      " 5:  1.9088e+03  1.6892e+03  2e+02  2e-03  1e-01\n",
      " 6:  1.8577e+03  1.7316e+03  1e+02  1e-03  5e-02\n",
      " 7:  1.8232e+03  1.7590e+03  7e+01  4e-04  2e-02\n",
      " 8:  1.8020e+03  1.7759e+03  3e+01  1e-04  7e-03\n",
      " 9:  1.7970e+03  1.7797e+03  2e+01  5e-05  3e-03\n",
      "10:  1.7925e+03  1.7835e+03  9e+00  2e-05  1e-03\n",
      "11:  1.7893e+03  1.7863e+03  3e+00  5e-06  2e-04\n",
      "12:  1.7882e+03  1.7873e+03  9e-01  6e-07  3e-05\n",
      "13:  1.7879e+03  1.7876e+03  4e-01  1e-07  6e-06\n",
      "14:  1.7878e+03  1.7877e+03  1e-01  4e-08  2e-06\n",
      "15:  1.7877e+03  1.7877e+03  1e-02  5e-10  2e-08\n",
      "16:  1.7877e+03  1.7877e+03  1e-03  5e-11  2e-09\n",
      "Optimal solution found.\n",
      "[[-0.35519151]\n",
      " [-1.41544351]\n",
      " [ 0.61945368]\n",
      " [-0.89728784]\n",
      " [-1.00271217]]\n",
      "c = 1\n",
      "4\n",
      "Accuracy on training test = 75.96666666666667\n",
      "4\n",
      "Accuracy on test test = 55.056179775280896\n",
      "4\n",
      " Accuracy on validation test = 74.0\n",
      "5\n",
      "     pcost       dcost       gap    pres   dres\n",
      " 0: -1.7569e+05  8.0522e+05  6e+06  5e+01  2e+02\n",
      " 1:  5.6200e+05 -5.7645e+05  2e+06  9e+00  4e+01\n",
      " 2:  2.7143e+05 -7.1272e+03  3e+05  4e-01  2e+00\n",
      " 3:  2.8118e+04  1.1120e+04  2e+04  2e-02  1e-01\n",
      " 4:  2.3957e+04  1.4240e+04  1e+04  1e-02  5e-02\n",
      " 5:  1.9942e+04  1.6416e+04  4e+03  3e-03  1e-02\n",
      " 6:  1.8893e+04  1.7142e+04  2e+03  1e-03  6e-03\n",
      " 7:  1.8189e+04  1.7622e+04  6e+02  4e-04  2e-03\n",
      " 8:  1.8015e+04  1.7744e+04  3e+02  1e-04  5e-04\n",
      " 9:  1.7939e+04  1.7799e+04  1e+02  4e-05  2e-04\n",
      "10:  1.7903e+04  1.7825e+04  8e+01  5e-06  2e-05\n",
      "11:  1.7883e+04  1.7843e+04  4e+01  2e-06  1e-05\n",
      "12:  1.7867e+04  1.7858e+04  9e+00  6e-16  1e-12\n",
      "13:  1.7863e+04  1.7862e+04  1e+00  6e-16  4e-13\n",
      "14:  1.7862e+04  1.7862e+04  1e-01  6e-16  3e-13\n",
      "15:  1.7862e+04  1.7862e+04  2e-02  6e-16  5e-13\n",
      "16:  1.7862e+04  1.7862e+04  4e-04  5e-16  2e-12\n",
      "Optimal solution found.\n",
      "[[-0.3578965 ]\n",
      " [-1.42024931]\n",
      " [ 0.61759692]\n",
      " [-0.92638414]\n",
      " [-1.00286419]]\n",
      "c = 10\n",
      "4\n",
      "Accuracy on training test = 76.0\n",
      "4\n",
      "Accuracy on test test = 55.056179775280896\n",
      "4\n",
      " Accuracy on validation test = 74.0\n",
      "5\n",
      "     pcost       dcost       gap    pres   dres\n",
      " 0: -1.8587e+07  7.0452e+07  5e+08  5e+02  2e+02\n",
      " 1:  4.8978e+07 -4.4653e+07  1e+08  8e+01  3e+01\n",
      " 2:  1.9274e+07 -6.3343e+04  2e+07  5e-01  2e-01\n",
      " 3:  4.3810e+05  1.0459e+05  3e+05  8e-03  3e-03\n",
      " 4:  2.3531e+05  1.3512e+05  1e+05  2e-03  9e-04\n",
      " 5:  2.1661e+05  1.5356e+05  6e+04  1e-03  4e-04\n",
      " 6:  1.9174e+05  1.6931e+05  2e+04  3e-04  1e-04\n",
      " 7:  1.8533e+05  1.7380e+05  1e+04  1e-04  5e-05\n",
      " 8:  1.8095e+05  1.7688e+05  4e+03  4e-05  2e-05\n",
      " 9:  1.7980e+05  1.7769e+05  2e+03  2e-05  7e-06\n",
      "10:  1.7921e+05  1.7812e+05  1e+03  7e-06  3e-06\n",
      "11:  1.7879e+05  1.7844e+05  3e+02  2e-07  8e-08\n",
      "12:  1.7865e+05  1.7856e+05  9e+01  1e-08  6e-09\n",
      "13:  1.7861e+05  1.7860e+05  1e+01  4e-10  2e-10\n",
      "14:  1.7861e+05  1.7861e+05  9e-01  3e-11  1e-11\n",
      "15:  1.7861e+05  1.7861e+05  1e-01  4e-12  2e-12\n",
      "Optimal solution found.\n",
      "[[-0.35789902]\n",
      " [-1.42025407]\n",
      " [ 0.61759926]\n",
      " [-0.92638124]\n",
      " [-1.0028638 ]]\n",
      "c = 100\n",
      "4\n",
      "Accuracy on training test = 76.0\n",
      "4\n",
      "Accuracy on test test = 55.056179775280896\n",
      "4\n",
      " Accuracy on validation test = 74.0\n",
      "5\n",
      "     pcost       dcost       gap    pres   dres\n",
      " 0: -1.8688e+09  6.9455e+09  5e+10  5e+03  2e+02\n",
      " 1:  4.8277e+09 -4.3405e+09  1e+10  8e+02  3e+01\n",
      " 2:  1.8453e+09 -1.9058e+06  2e+09  3e-01  1e-02\n",
      " 3:  2.4206e+07  1.0350e+06  2e+07  4e-03  2e-04\n",
      " 4:  2.8340e+06  1.1010e+06  2e+06  3e-04  1e-05\n",
      " 5:  2.4374e+06  1.4143e+06  1e+06  1e-04  6e-06\n",
      " 6:  1.9757e+06  1.6546e+06  3e+05  4e-05  2e-06\n",
      " 7:  1.8775e+06  1.7228e+06  2e+05  1e-05  6e-07\n",
      " 8:  1.8189e+06  1.7624e+06  6e+04  4e-06  2e-07\n",
      " 9:  1.8010e+06  1.7746e+06  3e+04  1e-06  6e-08\n",
      "10:  1.7938e+06  1.7797e+06  1e+04  5e-07  2e-08\n",
      "11:  1.7895e+06  1.7828e+06  7e+03  2e-08  7e-10\n",
      "12:  1.7874e+06  1.7848e+06  3e+03  5e-09  2e-10\n",
      "13:  1.7864e+06  1.7857e+06  7e+02  1e-09  4e-11\n",
      "14:  1.7861e+06  1.7860e+06  6e+01  5e-11  2e-12\n",
      "15:  1.7861e+06  1.7861e+06  1e+01  8e-12  8e-13\n",
      "16:  1.7861e+06  1.7861e+06  2e+00  1e-12  4e-13\n",
      "Optimal solution found.\n",
      "[[-0.35789978]\n",
      " [-1.42025559]\n",
      " [ 0.61759999]\n",
      " [-0.92638042]\n",
      " [-1.00286379]]\n",
      "c = 1000\n",
      "4\n",
      "Accuracy on training test = 76.0\n",
      "4\n",
      "Accuracy on test test = 55.056179775280896\n",
      "4\n",
      " Accuracy on validation test = 74.0\n",
      "Top  5  eigen values:  [  1.52029434e+09   1.28884476e+08   3.44289156e+06   1.68285514e+04\n",
      "   1.16228317e+04]\n",
      "6\n",
      "     pcost       dcost       gap    pres   dres\n",
      " 0: -7.4280e+02  1.9437e+04  2e+05  1e+01  5e+02\n",
      " 1:  1.4087e+04 -2.4375e+04  5e+04  2e+00  8e+01\n",
      " 2:  1.0413e+04 -1.6781e+03  1e+04  2e-01  1e+01\n",
      " 3:  2.5814e+03  1.2128e+03  1e+03  2e-02  9e-01\n",
      " 4:  2.1935e+03  1.4923e+03  7e+02  7e-03  4e-01\n",
      " 5:  1.9610e+03  1.6465e+03  3e+02  3e-03  2e-01\n",
      " 6:  1.8756e+03  1.7092e+03  2e+02  1e-03  6e-02\n",
      " 7:  1.8267e+03  1.7447e+03  8e+01  5e-04  3e-02\n",
      " 8:  1.8035e+03  1.7616e+03  4e+01  2e-04  1e-02\n",
      " 9:  1.7997e+03  1.7642e+03  4e+01  2e-04  9e-03\n",
      "10:  1.7868e+03  1.7737e+03  1e+01  2e-05  1e-03\n",
      "11:  1.7811e+03  1.7785e+03  3e+00  1e-06  7e-05\n",
      "12:  1.7802e+03  1.7794e+03  8e-01  2e-07  1e-05\n",
      "13:  1.7799e+03  1.7797e+03  2e-01  5e-08  2e-06\n",
      "14:  1.7798e+03  1.7798e+03  2e-02  2e-09  1e-07\n",
      "15:  1.7798e+03  1.7798e+03  8e-04  5e-11  3e-09\n",
      "Optimal solution found.\n",
      "[[-0.26840954]\n",
      " [-1.28584312]\n",
      " [ 0.51230756]\n",
      " [-0.86509443]\n",
      " [ 0.25339227]\n",
      " [-0.99948709]]\n",
      "c = 1\n",
      "5\n",
      "Accuracy on training test = 75.93333333333334\n",
      "5\n",
      "Accuracy on test test = 52.55930087390762\n",
      "5\n",
      " Accuracy on validation test = 73.375\n",
      "6\n",
      "     pcost       dcost       gap    pres   dres\n",
      " 0: -1.7588e+05  8.2234e+05  6e+06  5e+01  2e+02\n",
      " 1:  5.7988e+05 -5.9577e+05  2e+06  9e+00  4e+01\n",
      " 2:  2.8177e+05 -1.1339e+04  3e+05  5e-01  2e+00\n",
      " 3:  2.8629e+04  1.1052e+04  2e+04  3e-02  1e-01\n",
      " 4:  2.4028e+04  1.4129e+04  1e+04  1e-02  5e-02\n",
      " 5:  2.0475e+04  1.6050e+04  5e+03  5e-03  2e-02\n",
      " 6:  1.9425e+04  1.6720e+04  3e+03  2e-03  1e-02\n",
      " 7:  1.8622e+04  1.7223e+04  1e+03  1e-03  5e-03\n",
      " 8:  1.8129e+04  1.7543e+04  6e+02  4e-04  2e-03\n",
      " 9:  1.7956e+04  1.7659e+04  3e+02  2e-04  7e-04\n",
      "10:  1.7862e+04  1.7723e+04  1e+02  4e-05  2e-04\n",
      "11:  1.7802e+04  1.7769e+04  3e+01  3e-06  1e-05\n",
      "12:  1.7787e+04  1.7783e+04  5e+00  3e-07  1e-06\n",
      "13:  1.7786e+04  1.7785e+04  1e+00  6e-08  3e-07\n",
      "14:  1.7785e+04  1.7785e+04  1e-01  5e-09  2e-08\n",
      "15:  1.7785e+04  1.7785e+04  2e-03  7e-11  3e-10\n",
      "Optimal solution found.\n",
      "[[-0.26895402]\n",
      " [-1.28664199]\n",
      " [ 0.51289868]\n",
      " [-0.87230474]\n",
      " [ 0.25220275]\n",
      " [-0.99948529]]\n",
      "c = 10\n",
      "5\n",
      "Accuracy on training test = 75.96666666666667\n",
      "5\n",
      "Accuracy on test test = 52.55930087390762\n",
      "5\n",
      " Accuracy on validation test = 73.375\n",
      "6\n",
      "     pcost       dcost       gap    pres   dres\n",
      " 0: -1.8603e+07  7.2026e+07  5e+08  5e+02  2e+02\n",
      " 1:  5.0689e+07 -4.6022e+07  1e+08  8e+01  3e+01\n",
      " 2:  2.0067e+07 -3.1085e+05  2e+07  1e+00  5e-01\n",
      " 3:  4.7768e+05  1.0427e+05  4e+05  2e-02  9e-03\n",
      " 4:  2.3888e+05  1.3216e+05  1e+05  5e-03  2e-03\n",
      " 5:  2.1998e+05  1.4960e+05  7e+04  3e-03  1e-03\n",
      " 6:  1.9361e+05  1.6668e+05  3e+04  9e-04  4e-04\n",
      " 7:  1.8827e+05  1.7050e+05  2e+04  5e-04  2e-04\n",
      " 8:  1.8206e+05  1.7477e+05  7e+03  2e-04  8e-05\n",
      " 9:  1.7976e+05  1.7640e+05  3e+03  8e-05  3e-05\n",
      "10:  1.7882e+05  1.7696e+05  2e+03  3e-06  1e-06\n",
      "11:  1.7802e+05  1.7767e+05  4e+02  1e-07  5e-08\n",
      "12:  1.7786e+05  1.7781e+05  5e+01  1e-08  5e-09\n",
      "13:  1.7784e+05  1.7783e+05  1e+01  3e-09  1e-09\n",
      "14:  1.7784e+05  1.7784e+05  3e+00  3e-10  1e-10\n",
      "15:  1.7784e+05  1.7784e+05  1e-01  1e-11  3e-12\n",
      "Optimal solution found.\n",
      "[[-0.26895526]\n",
      " [-1.28664351]\n",
      " [ 0.51290049]\n",
      " [-0.87230739]\n",
      " [ 0.25219812]\n",
      " [-0.99948576]]\n",
      "c = 100\n",
      "5\n",
      "Accuracy on training test = 75.96666666666667\n",
      "5\n",
      "Accuracy on test test = 52.55930087390762\n",
      "5\n",
      " Accuracy on validation test = 73.375\n",
      "6\n",
      "     pcost       dcost       gap    pres   dres\n",
      " 0: -1.8705e+09  7.1016e+09  5e+10  5e+03  2e+02\n",
      " 1:  4.9790e+09 -4.5201e+09  1e+10  8e+02  3e+01\n",
      " 2:  1.9471e+09 -3.1577e+07  2e+09  9e+00  4e-01\n",
      " 3:  3.0381e+07  1.0260e+06  3e+07  1e-01  6e-03\n",
      " 4:  2.9934e+06  1.0856e+06  2e+06  9e-03  4e-04\n",
      " 5:  2.4098e+06  1.4174e+06  1e+06  4e-03  2e-04\n",
      " 6:  2.1215e+06  1.5756e+06  5e+05  2e-03  7e-05\n",
      " 7:  1.9809e+06  1.6549e+06  3e+05  9e-04  4e-05\n",
      " 8:  1.8849e+06  1.7108e+06  2e+05  4e-04  2e-05\n",
      " 9:  1.8234e+06  1.7485e+06  8e+04  2e-04  7e-06\n",
      "10:  1.7984e+06  1.7646e+06  3e+04  7e-05  3e-06\n",
      "11:  1.7870e+06  1.7706e+06  2e+04  5e-16  1e-13\n",
      "12:  1.7801e+06  1.7767e+06  3e+03  5e-16  1e-13\n",
      "13:  1.7786e+06  1.7781e+06  5e+02  6e-16  7e-14\n",
      "14:  1.7784e+06  1.7783e+06  1e+02  6e-16  1e-12\n",
      "15:  1.7784e+06  1.7784e+06  2e+01  5e-16  5e-12\n",
      "16:  1.7784e+06  1.7784e+06  2e+00  5e-16  6e-12\n",
      "Optimal solution found.\n",
      "[[-0.26895439]\n",
      " [-1.28664236]\n",
      " [ 0.51289939]\n",
      " [-0.87230557]\n",
      " [ 0.25220125]\n",
      " [-0.99948556]]\n",
      "c = 1000\n",
      "5\n",
      "Accuracy on training test = 75.96666666666667\n",
      "5\n",
      "Accuracy on test test = 52.55930087390762\n",
      "5\n",
      " Accuracy on validation test = 73.375\n"
     ]
    }
   ],
   "source": [
    "# Training\n",
    "\n",
    "# Vr\n",
    "train_file = \"spam_train.data\"\n",
    "valid_file = \"spam_validation.data\"\n",
    "test_file = \"spam_test.data\"\n",
    "\n",
    "data = load_data(train_file)\n",
    "# X = data[0]\n",
    "# Y = data[1]\n",
    "    \n",
    "for k in range(1,6):\n",
    "# k = 6\n",
    "    V_r = PCA(train_file,k)\n",
    "\n",
    "    # Prepare data\n",
    "#     data = load_data(train_file)\n",
    "    X = data[0]\n",
    "    Y = data[1]\n",
    "    X_r = np.dot(X,V_r) # Projection of X along eigen vectors\n",
    "    Y = np.reshape(Y,(Y.shape[0],1))\n",
    "    SVM_data = np.concatenate((X_r,Y),axis=1) #672 x 347\n",
    "\n",
    "    # Feed data to SVM\n",
    "    # for c in [10,1000,10000]:\n",
    "    for c in [1,10,100,1000]:\n",
    "        train_w = SVM_primal(SVM_data,c)\n",
    "        print(train_w)\n",
    "        print(\"c =\",c)\n",
    "        # Testing on training set\n",
    "        print(\"Accuracy on training test =\",testing(train_file,train_w,V_r))\n",
    "\n",
    "        # Testing on validation set\n",
    "    #     V_r_test = PCA(test_file,k)\n",
    "    #     print(\"c =\",c,\" Accuracy on test test =\",testing(test_file,train_w,V_r_test))\n",
    "        print(\"Accuracy on test test =\",testing(test_file,train_w,V_r))\n",
    "\n",
    "        # Testing on validation set\n",
    "    #     V_r_valid = PCA(valid_file,k)\n",
    "    #     print(\"c =\",c,\" Accuracy on validation test =\",testing(valid_file,train_w,V_r_valid))\n",
    "        print(\" Accuracy on validation test =\",testing(valid_file,train_w,V_r))"
   ]
  },
  {
   "cell_type": "code",
   "execution_count": 15,
   "metadata": {
    "collapsed": false
   },
   "outputs": [
    {
     "name": "stdout",
     "output_type": "stream",
     "text": [
      "     pcost       dcost       gap    pres   dres\n",
      " 0: -1.7780e+05  8.3794e+05  6e+06  5e+01  2e+02\n",
      " 1:  5.9495e+05 -6.1394e+05  2e+06  9e+00  4e+01\n",
      " 2:  3.5998e+05 -1.1847e+05  5e+05  2e+00  1e+01\n",
      " 3:  1.2012e+05 -4.5765e+02  1e+05  5e-01  2e+00\n",
      " 4:  2.8700e+04  1.0876e+04  2e+04  7e-02  3e-01\n",
      " 5:  2.2892e+04  1.3680e+04  1e+04  3e-02  1e-01\n",
      " 6:  1.9800e+04  1.5260e+04  5e+03  1e-02  5e-02\n",
      " 7:  1.8904e+04  1.5802e+04  3e+03  6e-03  3e-02\n",
      " 8:  1.7728e+04  1.6465e+04  1e+03  2e-03  1e-02\n",
      " 9:  1.7416e+04  1.6645e+04  8e+02  8e-04  4e-03\n",
      "10:  1.7193e+04  1.6792e+04  4e+02  4e-04  2e-03\n",
      "11:  1.7083e+04  1.6867e+04  2e+02  2e-04  8e-04\n",
      "12:  1.6994e+04  1.6930e+04  7e+01  5e-05  2e-04\n",
      "13:  1.6972e+04  1.6946e+04  3e+01  1e-05  5e-05\n",
      "14:  1.6961e+04  1.6955e+04  6e+00  2e-06  1e-05\n",
      "15:  1.6959e+04  1.6957e+04  1e+00  3e-07  1e-06\n",
      "16:  1.6958e+04  1.6958e+04  2e-01  4e-08  2e-07\n",
      "17:  1.6958e+04  1.6958e+04  2e-02  3e-09  1e-08\n",
      "18:  1.6958e+04  1.6958e+04  2e-04  3e-11  1e-10\n",
      "Optimal solution found.\n",
      "c = 10  Accuracy on training test = 78.66666666666667\n"
     ]
    }
   ],
   "source": [
    "train_w = SVM_primal(SVM_data,c)\n",
    "# Testing on training set\n",
    "print(\"c =\",c,\" Accuracy on training test =\",testing(train_file,train_w,V_r))"
   ]
  },
  {
   "cell_type": "code",
   "execution_count": 17,
   "metadata": {
    "collapsed": false
   },
   "outputs": [
    {
     "name": "stdout",
     "output_type": "stream",
     "text": [
      "c = 10  Accuracy on test test = 50.31210986267166\n"
     ]
    }
   ],
   "source": [
    "# Testing on test set\n",
    "# V_r_test = PCA(test_file,k)\n",
    "print(\"c =\",c,\" Accuracy on test test =\",testing(test_file,train_w,V_r))"
   ]
  },
  {
   "cell_type": "code",
   "execution_count": 18,
   "metadata": {
    "collapsed": false
   },
   "outputs": [
    {
     "name": "stdout",
     "output_type": "stream",
     "text": [
      "c = 10  Accuracy on validation test = 74.5\n"
     ]
    }
   ],
   "source": [
    "print(\"c =\",c,\" Accuracy on validation test =\",testing(valid_file,train_w,V_r))"
   ]
  },
  {
   "cell_type": "code",
   "execution_count": null,
   "metadata": {
    "collapsed": true
   },
   "outputs": [],
   "source": [
    "# Testing on test set\n",
    "V_r_test = PCA(test_file,k)\n",
    "print(\"c =\",c,\" Accuracy on test test =\",testing(test_file,train_w,V_r_test))\n",
    "\n",
    "# Testing on validation set\n",
    "V_r_valid = PCA(valid_file,k)\n",
    "print(\"c =\",c,\" Accuracy on validation test =\",testing(valid_file,train_w,V_r_valid))"
   ]
  },
  {
   "cell_type": "code",
   "execution_count": 9,
   "metadata": {
    "collapsed": false
   },
   "outputs": [
    {
     "data": {
      "text/plain": [
       "array([ 1.75489477, -1.44184019,  0.03194114, -0.02732616,  0.37576475,\n",
       "       -0.480075  ])"
      ]
     },
     "execution_count": 9,
     "metadata": {},
     "output_type": "execute_result"
    }
   ],
   "source": [
    "X_r[0,:]"
   ]
  },
  {
   "cell_type": "code",
   "execution_count": null,
   "metadata": {
    "collapsed": true
   },
   "outputs": [],
   "source": []
  },
  {
   "cell_type": "code",
   "execution_count": 4,
   "metadata": {
    "collapsed": false
   },
   "outputs": [
    {
     "name": "stdout",
     "output_type": "stream",
     "text": [
      "Top  6  eigen values:  [  1.52029434e+09   1.28884476e+08   3.44289156e+06   1.68285514e+04\n",
      "   1.16228317e+04   8.97974605e+03]\n"
     ]
    }
   ],
   "source": [
    "# Training\n",
    "import numpy as np\n",
    "# Read data\n",
    "filename = \"spam_train.data\"\n",
    "data = np.loadtxt(filename,delimiter=',')\n",
    "# Define input and output\n",
    "num_data = data.shape[0]\n",
    "num_feature = data.shape[1]-1\n",
    "X = data[:,0:num_feature]\n",
    "Y = data[:,num_feature]\n",
    "# Construct matrix W - sample covariance matrix \n",
    "X_mean = np.mean(X,axis=0)\n",
    "X_mean = np.reshape(X_mean,(57,1))\n",
    "W = X - np.dot(np.ones((num_data,1)),X_mean.T)\n",
    "# Find SVD of W - covariance matrix\n",
    "U, s, V = np.linalg.svd(W, full_matrices=True)\n",
    "# eigen vectors and eigen value of covariance matrix \n",
    "eigen_vec = U\n",
    "# s = np.reshape(s,(s.shape[0],1))\n",
    "# eigen_value = np.dot(s,s.T)\n",
    "eigen_value = s * s\n",
    "# Top k eigen value\n",
    "k = 6\n",
    "print(\"Top \",k,\" eigen values: \",eigen_value[:k])"
   ]
  },
  {
   "cell_type": "code",
   "execution_count": 8,
   "metadata": {
    "collapsed": false
   },
   "outputs": [
    {
     "data": {
      "text/plain": [
       "(3000, 57)"
      ]
     },
     "execution_count": 8,
     "metadata": {},
     "output_type": "execute_result"
    }
   ],
   "source": [
    "X.shape"
   ]
  },
  {
   "cell_type": "code",
   "execution_count": 9,
   "metadata": {
    "collapsed": false
   },
   "outputs": [
    {
     "data": {
      "text/plain": [
       "(3000, 57)"
      ]
     },
     "execution_count": 9,
     "metadata": {},
     "output_type": "execute_result"
    }
   ],
   "source": [
    "W.shape"
   ]
  },
  {
   "cell_type": "code",
   "execution_count": 5,
   "metadata": {
    "collapsed": false
   },
   "outputs": [
    {
     "data": {
      "text/plain": [
       "(3000, 3000)"
      ]
     },
     "execution_count": 5,
     "metadata": {},
     "output_type": "execute_result"
    }
   ],
   "source": [
    "U.shape"
   ]
  },
  {
   "cell_type": "code",
   "execution_count": 7,
   "metadata": {
    "collapsed": false
   },
   "outputs": [
    {
     "data": {
      "text/plain": [
       "(57,)"
      ]
     },
     "execution_count": 7,
     "metadata": {},
     "output_type": "execute_result"
    }
   ],
   "source": [
    "s.shape"
   ]
  },
  {
   "cell_type": "code",
   "execution_count": 6,
   "metadata": {
    "collapsed": false
   },
   "outputs": [
    {
     "data": {
      "text/plain": [
       "(57, 57)"
      ]
     },
     "execution_count": 6,
     "metadata": {},
     "output_type": "execute_result"
    }
   ],
   "source": [
    "V.shape"
   ]
  },
  {
   "cell_type": "code",
   "execution_count": 176,
   "metadata": {
    "collapsed": false
   },
   "outputs": [
    {
     "name": "stdout",
     "output_type": "stream",
     "text": [
      "Top  6  eigen values:  [  1.28577529e+08   3.92867543e+05   2.86376741e+04   6.70054786e+03\n",
      "   4.29256011e+03   1.79410591e+03]\n"
     ]
    },
    {
     "data": {
      "text/plain": [
       "0.75"
      ]
     },
     "execution_count": 176,
     "metadata": {},
     "output_type": "execute_result"
    }
   ],
   "source": [
    "# Testing on Validation set\n",
    "\n",
    "# File Vr\n",
    "filename = \"spam_validation.data\"\n",
    "k = 6\n",
    "V_r = PCA(filename,k)\n",
    "\n",
    "# Prepare data\n",
    "# data = load_data(filename)\n",
    "# X = data[0]\n",
    "# Y = data[1]\n",
    "# X_r = np.dot(X,V_r) # Projection of X along eigen vectors\n",
    "# Y = np.reshape(Y,(Y.shape[0],1))\n",
    "# SVM_data = np.concatenate((X_r,Y),axis=1) #672 x 347\n",
    "\n",
    "testing(filename,train_w,V_r)\n"
   ]
  },
  {
   "cell_type": "code",
   "execution_count": 141,
   "metadata": {
    "collapsed": false
   },
   "outputs": [
    {
     "data": {
      "text/plain": [
       "57"
      ]
     },
     "execution_count": 141,
     "metadata": {},
     "output_type": "execute_result"
    }
   ],
   "source": [
    "data = load_data(\"spam_train.data\")\n",
    "X = data[0]\n",
    "Y = data[1]\n",
    "# Define input and output\n",
    "num_data = X.shape[0]\n",
    "num_feature = X.shape[1]\n",
    "num_feature"
   ]
  },
  {
   "cell_type": "code",
   "execution_count": 134,
   "metadata": {
    "collapsed": true
   },
   "outputs": [],
   "source": [
    "# PCA and SVM\n",
    "# k eigen vector\n",
    "V_r = V[:,0:k]\n",
    "X_r = np.dot(X,V_r) # Projection of X along eigen vectors\n",
    "Y = np.reshape(Y,(Y.shape[0],1))\n",
    "Y[Y==0] = -1\n",
    "SVM_data = np.concatenate((X_r,Y),axis=1) #672 x 347"
   ]
  },
  {
   "cell_type": "code",
   "execution_count": 135,
   "metadata": {
    "collapsed": false
   },
   "outputs": [
    {
     "name": "stdout",
     "output_type": "stream",
     "text": [
      "     pcost       dcost       gap    pres   dres\n",
      " 0: -1.5912e+07  4.8937e+07  3e+08  4e+02  1e+02\n",
      " 1:  3.5692e+07 -1.9158e+07  7e+07  6e+01  2e+01\n",
      " 2:  7.7086e+06  1.3826e+05  8e+06  3e-14  1e-13\n",
      " 3:  3.6304e+05  1.4273e+05  2e+05  9e-15  2e-13\n",
      " 4:  3.1430e+05  2.0362e+05  1e+05  4e-15  1e-13\n",
      " 5:  2.5683e+05  2.3616e+05  2e+04  4e-16  9e-14\n",
      " 6:  2.3765e+05  2.3737e+05  3e+02  3e-16  2e-13\n",
      " 7:  2.3740e+05  2.3740e+05  3e+00  3e-16  2e-13\n",
      " 8:  2.3740e+05  2.3740e+05  3e-02  3e-16  1e-13\n",
      "Optimal solution found.\n"
     ]
    }
   ],
   "source": [
    "c= 100\n",
    "solv = SVM_primal(SVM_data,c)\n",
    "# print(\"c =\",c,\" Accuracy on validation test =\",testing(SVM_data,solv[0],solv[1]))"
   ]
  },
  {
   "cell_type": "code",
   "execution_count": 138,
   "metadata": {
    "collapsed": false
   },
   "outputs": [
    {
     "data": {
      "text/plain": [
       "60.43333333333333"
      ]
     },
     "execution_count": 138,
     "metadata": {},
     "output_type": "execute_result"
    }
   ],
   "source": [
    "# test on validation \n",
    "filename = \"spam_train.data\"\n",
    "testing(filename,solv,V_r)"
   ]
  },
  {
   "cell_type": "code",
   "execution_count": 143,
   "metadata": {
    "collapsed": false
   },
   "outputs": [
    {
     "data": {
      "text/plain": [
       "array([[  5.14359971e-08],\n",
       "       [  9.99999777e-01]])"
      ]
     },
     "execution_count": 143,
     "metadata": {},
     "output_type": "execute_result"
    }
   ],
   "source": [
    "solv"
   ]
  },
  {
   "cell_type": "code",
   "execution_count": null,
   "metadata": {
    "collapsed": true
   },
   "outputs": [],
   "source": []
  },
  {
   "cell_type": "code",
   "execution_count": 168,
   "metadata": {
    "collapsed": false
   },
   "outputs": [
    {
     "name": "stdout",
     "output_type": "stream",
     "text": [
      "Top  2  eigen values:  [  1.28577529e+08   3.92867543e+05]\n"
     ]
    },
    {
     "ename": "IndexError",
     "evalue": "index 2 is out of bounds for axis 0 with size 2",
     "output_type": "error",
     "traceback": [
      "\u001b[0;31m---------------------------------------------------------------------------\u001b[0m",
      "\u001b[0;31mIndexError\u001b[0m                                Traceback (most recent call last)",
      "\u001b[0;32m<ipython-input-168-563f3e65c101>\u001b[0m in \u001b[0;36m<module>\u001b[0;34m()\u001b[0m\n\u001b[1;32m      3\u001b[0m \u001b[0mV_r\u001b[0m \u001b[1;33m=\u001b[0m \u001b[0mPCA\u001b[0m\u001b[1;33m(\u001b[0m\u001b[0mfilename\u001b[0m\u001b[1;33m,\u001b[0m\u001b[1;36m2\u001b[0m\u001b[1;33m)\u001b[0m\u001b[1;33m\u001b[0m\u001b[0m\n\u001b[1;32m      4\u001b[0m \u001b[1;31m# V_r\u001b[0m\u001b[1;33m\u001b[0m\u001b[1;33m\u001b[0m\u001b[0m\n\u001b[0;32m----> 5\u001b[0;31m \u001b[0mtesting\u001b[0m\u001b[1;33m(\u001b[0m\u001b[0mfilename\u001b[0m\u001b[1;33m,\u001b[0m\u001b[0msolv\u001b[0m\u001b[1;33m,\u001b[0m\u001b[0mV_r\u001b[0m\u001b[1;33m)\u001b[0m\u001b[1;33m\u001b[0m\u001b[0m\n\u001b[0m",
      "\u001b[0;32m<ipython-input-131-5a29d8fe1d33>\u001b[0m in \u001b[0;36mtesting\u001b[0;34m(filename, w, V_r)\u001b[0m\n\u001b[1;32m     74\u001b[0m \u001b[1;31m#     SVM_data = np.concatenate((X_r,Y),axis=1) #672 x 347\u001b[0m\u001b[1;33m\u001b[0m\u001b[1;33m\u001b[0m\u001b[0m\n\u001b[1;32m     75\u001b[0m     \u001b[0mnum_feature\u001b[0m \u001b[1;33m=\u001b[0m \u001b[0mX_r\u001b[0m\u001b[1;33m.\u001b[0m\u001b[0mshape\u001b[0m\u001b[1;33m[\u001b[0m\u001b[1;36m1\u001b[0m\u001b[1;33m]\u001b[0m\u001b[1;33m\u001b[0m\u001b[0m\n\u001b[0;32m---> 76\u001b[0;31m     \u001b[0mf\u001b[0m \u001b[1;33m=\u001b[0m \u001b[0mnp\u001b[0m\u001b[1;33m.\u001b[0m\u001b[0mdot\u001b[0m\u001b[1;33m(\u001b[0m\u001b[0mX_r\u001b[0m\u001b[1;33m,\u001b[0m\u001b[0mw\u001b[0m\u001b[1;33m[\u001b[0m\u001b[1;36m0\u001b[0m\u001b[1;33m:\u001b[0m\u001b[0mnum_feature\u001b[0m\u001b[1;33m]\u001b[0m\u001b[1;33m)\u001b[0m \u001b[1;33m+\u001b[0m \u001b[0mw\u001b[0m\u001b[1;33m[\u001b[0m\u001b[0mnum_feature\u001b[0m\u001b[1;33m]\u001b[0m\u001b[1;33m\u001b[0m\u001b[0m\n\u001b[0m\u001b[1;32m     77\u001b[0m     \u001b[0mf\u001b[0m\u001b[1;33m[\u001b[0m\u001b[0mf\u001b[0m \u001b[1;33m<\u001b[0m \u001b[1;36m0\u001b[0m\u001b[1;33m]\u001b[0m \u001b[1;33m=\u001b[0m \u001b[1;33m-\u001b[0m\u001b[1;36m1\u001b[0m\u001b[1;33m\u001b[0m\u001b[0m\n\u001b[1;32m     78\u001b[0m     \u001b[0mf\u001b[0m\u001b[1;33m[\u001b[0m\u001b[0mf\u001b[0m \u001b[1;33m>\u001b[0m \u001b[1;36m0\u001b[0m\u001b[1;33m]\u001b[0m \u001b[1;33m=\u001b[0m  \u001b[1;36m1\u001b[0m\u001b[1;33m\u001b[0m\u001b[0m\n",
      "\u001b[0;31mIndexError\u001b[0m: index 2 is out of bounds for axis 0 with size 2"
     ]
    }
   ],
   "source": [
    "# test on validation \n",
    "filename = \"spam_validation.data\"\n",
    "V_r = PCA(filename,2)\n",
    "# V_r\n",
    "testing(filename,solv,V_r)"
   ]
  },
  {
   "cell_type": "code",
   "execution_count": 167,
   "metadata": {
    "collapsed": false
   },
   "outputs": [
    {
     "data": {
      "text/plain": [
       "(57, 2)"
      ]
     },
     "execution_count": 167,
     "metadata": {},
     "output_type": "execute_result"
    }
   ],
   "source": [
    "V_r.shape"
   ]
  },
  {
   "cell_type": "code",
   "execution_count": 88,
   "metadata": {
    "collapsed": true
   },
   "outputs": [],
   "source": [
    "# test on validation \n",
    "filename = \"spam_validation.data\"\n",
    "data = np.loadtxt(filename,delimiter=',')\n",
    "# Define input and output\n",
    "num_data = data.shape[0]\n",
    "num_feature = data.shape[1]-1\n",
    "X = data[:,0:num_feature]\n",
    "Y = data[:,num_feature]\n",
    "\n",
    "#Projection of X along given eigenvectors\n",
    "X_r = np.dot(X,V_r) # Projection of X along eigen vectors\n",
    "Y = np.reshape(Y,(Y.shape[0],1))\n",
    "Y[Y==0] = -1\n",
    "SVM_data = np.concatenate((X_r,Y),axis=1) #672 x 347"
   ]
  },
  {
   "cell_type": "code",
   "execution_count": null,
   "metadata": {
    "collapsed": true
   },
   "outputs": [],
   "source": [
    "testing(SVM_data,solv[0],solv[1],V)"
   ]
  }
 ],
 "metadata": {
  "kernelspec": {
   "display_name": "Python 3",
   "language": "python",
   "name": "python3"
  },
  "language_info": {
   "codemirror_mode": {
    "name": "ipython",
    "version": 3
   },
   "file_extension": ".py",
   "mimetype": "text/x-python",
   "name": "python",
   "nbconvert_exporter": "python",
   "pygments_lexer": "ipython3",
   "version": "3.5.2"
  }
 },
 "nbformat": 4,
 "nbformat_minor": 2
}
